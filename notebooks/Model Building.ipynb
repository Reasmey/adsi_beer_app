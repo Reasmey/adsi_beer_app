{
 "cells": [
  {
   "cell_type": "markdown",
   "metadata": {},
   "source": [
    "# Model building\n",
    "\n",
    "https://www.kaggle.com/vadbeg/pytorch-nn-with-embeddings-and-catboost/notebook#PyTorch\n",
    "\n",
    "mostly based off this example, plus parts of code form tutorial 5 lab 3"
   ]
  },
  {
   "cell_type": "code",
   "execution_count": 1,
   "metadata": {},
   "outputs": [],
   "source": [
    "# import load_data function from \n",
    "%load_ext autoreload\n",
    "%autoreload 2\n",
    "\n",
    "# fix system path\n",
    "import sys\n",
    "sys.path.append(\"/home/jovyan/work\")"
   ]
  },
  {
   "cell_type": "code",
   "execution_count": 2,
   "metadata": {},
   "outputs": [],
   "source": [
    "import numpy as np\n",
    "import pandas as pd\n",
    "import torch\n",
    "from torch.utils.data import Dataset, DataLoader"
   ]
  },
  {
   "cell_type": "code",
   "execution_count": 3,
   "metadata": {},
   "outputs": [],
   "source": [
    "import random\n",
    "\n",
    "def set_seed(seed):\n",
    "    random.seed(seed)\n",
    "    np.random.seed(seed)\n",
    "    \n",
    "    torch.manual_seed(seed)\n",
    "    torch.backends.cudnn.deterministick = True\n",
    "    torch.backends.cudnn.benchmark = False \n",
    "    \n",
    "set_seed(27)"
   ]
  },
  {
   "cell_type": "code",
   "execution_count": 4,
   "metadata": {},
   "outputs": [],
   "source": [
    "from src.data.sets import load_sets\n",
    "\n",
    "X_train, y_train, X_val, y_val, X_test, y_test = load_sets()"
   ]
  },
  {
   "cell_type": "code",
   "execution_count": 5,
   "metadata": {},
   "outputs": [
    {
     "data": {
      "text/plain": [
       "(317320, 5)"
      ]
     },
     "execution_count": 5,
     "metadata": {},
     "output_type": "execute_result"
    }
   ],
   "source": [
    "X_test.shape"
   ]
  },
  {
   "cell_type": "code",
   "execution_count": 6,
   "metadata": {},
   "outputs": [
    {
     "data": {
      "text/plain": [
       "(951959, 5)"
      ]
     },
     "execution_count": 6,
     "metadata": {},
     "output_type": "execute_result"
    }
   ],
   "source": [
    "X_train.shape"
   ]
  },
  {
   "cell_type": "code",
   "execution_count": 7,
   "metadata": {},
   "outputs": [
    {
     "data": {
      "text/plain": [
       "(317320, 5)"
      ]
     },
     "execution_count": 7,
     "metadata": {},
     "output_type": "execute_result"
    }
   ],
   "source": [
    "X_val.shape"
   ]
  },
  {
   "cell_type": "code",
   "execution_count": 8,
   "metadata": {},
   "outputs": [
    {
     "data": {
      "text/plain": [
       "array([[ 1.89700000e+03,  3.78951241e-01,  1.06859912e+00,\n",
       "         1.84150005e+00,  9.66077605e-01],\n",
       "       [ 4.91800000e+03, -3.20469239e+00, -2.17768163e+00,\n",
       "        -3.57227099e-01, -4.00106932e-01],\n",
       "       [ 1.70100000e+03, -3.37777485e-01,  2.57028931e-01,\n",
       "        -3.57227099e-01, -4.00106932e-01],\n",
       "       ...,\n",
       "       [ 4.59800000e+03,  1.09567997e+00,  2.57028931e-01,\n",
       "        -3.57227099e-01,  2.82985337e-01],\n",
       "       [ 3.18900000e+03,  3.78951241e-01,  1.06859912e+00,\n",
       "         3.75681950e-01,  2.82985337e-01],\n",
       "       [ 9.70000000e+01,  3.78951241e-01, -2.17768163e+00,\n",
       "        -3.57227099e-01,  2.82985337e-01]])"
      ]
     },
     "execution_count": 8,
     "metadata": {},
     "output_type": "execute_result"
    }
   ],
   "source": [
    "X_train"
   ]
  },
  {
   "cell_type": "code",
   "execution_count": 9,
   "metadata": {},
   "outputs": [],
   "source": [
    "# need to convert to tensors\n",
    "from src.models.pytorch import EmbeddingDataset"
   ]
  },
  {
   "cell_type": "code",
   "execution_count": 10,
   "metadata": {},
   "outputs": [],
   "source": [
    "train_dataset = EmbeddingDataset(X_train, \n",
    "                                      targets=y_train,\n",
    "                                      cat_cols_idx=[0],\n",
    "                                      cont_cols_idx=[1,2,3,4])\n",
    "\n",
    "val_dataset = EmbeddingDataset(X_val, \n",
    "                                      targets=y_val,\n",
    "                                      cat_cols_idx=[0],\n",
    "                                      cont_cols_idx=[1,2,3,4])\n",
    "\n",
    "\n",
    "test_dataset = EmbeddingDataset(X_test,\n",
    "                                     cat_cols_idx=[0],\n",
    "                                     cont_cols_idx=[1,2,3,4],\n",
    "                                     is_train=False)"
   ]
  },
  {
   "cell_type": "code",
   "execution_count": 11,
   "metadata": {},
   "outputs": [
    {
     "name": "stdout",
     "output_type": "stream",
     "text": [
      "First element of train_dataset: {'data': [tensor([4918.]), tensor([-3.2047, -2.1777, -0.3572, -0.4001])], 'target': tensor(13)}\n",
      "First element of val_dataset: {'data': [tensor([163.]), tensor([-1.0545, -0.5545, -1.0901, -1.0832])], 'target': tensor(31)}\n",
      "First element of test_dataset: {'data': [tensor([701.]), tensor([ 0.3790,  0.2570,  0.3757, -0.4001])]}\n"
     ]
    }
   ],
   "source": [
    "print(f'First element of train_dataset: {train_dataset[1]}',\n",
    "      f'First element of val_dataset: {val_dataset[1]}',\n",
    "      f'First element of test_dataset: {test_dataset[1]}',sep='\\n')"
   ]
  },
  {
   "cell_type": "code",
   "execution_count": 12,
   "metadata": {},
   "outputs": [],
   "source": [
    "# embedding example\n",
    "class ClassificationEmbdNN(torch.nn.Module):\n",
    "    \n",
    "    def __init__(self, emb_dims, no_of_cont=None):\n",
    "        super(ClassificationEmbdNN, self).__init__()\n",
    "        \n",
    "        self.emb_layers = torch.nn.ModuleList([torch.nn.Embedding(x, y)\n",
    "                                               for x, y in emb_dims])\n",
    "        \n",
    "        no_of_embs = sum([y for x, y in emb_dims])\n",
    "        self.no_of_embs = no_of_embs\n",
    "        self.emb_dropout = torch.nn.Dropout(0.2)\n",
    "        \n",
    "        self.no_of_cont = 0\n",
    "        if no_of_cont:\n",
    "            self.no_of_cont = no_of_cont\n",
    "            self.bn_cont = torch.nn.BatchNorm1d(no_of_cont)\n",
    "        \n",
    "        self.fc1 = torch.nn.Linear(in_features=self.no_of_embs + self.no_of_cont, \n",
    "                                   out_features=208)\n",
    "        self.dropout1 = torch.nn.Dropout(0.2)\n",
    "        self.bn1 = torch.nn.BatchNorm1d(208)\n",
    "        self.act1 = torch.nn.ReLU()\n",
    "        \n",
    "        self.fc2 = torch.nn.Linear(in_features=208, \n",
    "                                   out_features=208)\n",
    "        self.dropout2 = torch.nn.Dropout(0.2)\n",
    "        self.bn2 = torch.nn.BatchNorm1d(208)\n",
    "        self.act2 = torch.nn.ReLU()\n",
    "        \n",
    "#         self.fc3 = torch.nn.Linear(in_features=256, \n",
    "#                                    out_features=64)\n",
    "#         self.dropout3 = torch.nn.Dropout(0.2)\n",
    "#         self.bn3 = torch.nn.BatchNorm1d(64)\n",
    "#         self.act3 = torch.nn.ReLU()\n",
    "        \n",
    "        self.fc3 = torch.nn.Linear(in_features=208, \n",
    "                                   out_features=104)\n",
    "        self.act3 = torch.nn.Softmax()\n",
    "        \n",
    "    def forward(self, x_cat, x_cont=None):\n",
    "        if self.no_of_embs != 0:\n",
    "            x = [emb_layer(x_cat[:, i])\n",
    "                 for i, emb_layer in enumerate(self.emb_layers)]\n",
    "        \n",
    "            x = torch.cat(x, 1)\n",
    "            x = self.emb_dropout(x)\n",
    "            \n",
    "        if self.no_of_cont != 0:\n",
    "            x_cont = self.bn_cont(x_cont)\n",
    "            \n",
    "            if self.no_of_embs != 0:\n",
    "                x = torch.cat([x, x_cont], 1)\n",
    "            else:\n",
    "                x = x_cont\n",
    "        \n",
    "        x = self.fc1(x)\n",
    "        x = self.dropout1(x)\n",
    "        x = self.bn1(x)\n",
    "        x = self.act1(x)\n",
    "        \n",
    "        x = self.fc2(x)\n",
    "        x = self.dropout2(x)\n",
    "        x = self.bn2(x)\n",
    "        x = self.act2(x)\n",
    "        \n",
    "#         x = self.fc3(x)\n",
    "#         x = self.dropout3(x)\n",
    "#         x = self.bn3(x)\n",
    "#         x = self.act3(x)\n",
    "        \n",
    "        x = self.fc3(x)\n",
    "        x = self.act3(x)\n",
    "        \n",
    "        return x"
   ]
  },
  {
   "cell_type": "code",
   "execution_count": 13,
   "metadata": {},
   "outputs": [],
   "source": [
    "model = ClassificationEmbdNN(emb_dims=[[5742, 252]], \n",
    "                             no_of_cont=4)"
   ]
  },
  {
   "cell_type": "code",
   "execution_count": 14,
   "metadata": {},
   "outputs": [
    {
     "data": {
      "text/plain": [
       "ClassificationEmbdNN(\n",
       "  (emb_layers): ModuleList(\n",
       "    (0): Embedding(5742, 252)\n",
       "  )\n",
       "  (emb_dropout): Dropout(p=0.2, inplace=False)\n",
       "  (bn_cont): BatchNorm1d(4, eps=1e-05, momentum=0.1, affine=True, track_running_stats=True)\n",
       "  (fc1): Linear(in_features=256, out_features=208, bias=True)\n",
       "  (dropout1): Dropout(p=0.2, inplace=False)\n",
       "  (bn1): BatchNorm1d(208, eps=1e-05, momentum=0.1, affine=True, track_running_stats=True)\n",
       "  (act1): ReLU()\n",
       "  (fc2): Linear(in_features=208, out_features=208, bias=True)\n",
       "  (dropout2): Dropout(p=0.2, inplace=False)\n",
       "  (bn2): BatchNorm1d(208, eps=1e-05, momentum=0.1, affine=True, track_running_stats=True)\n",
       "  (act2): ReLU()\n",
       "  (fc3): Linear(in_features=208, out_features=104, bias=True)\n",
       "  (act3): Softmax(dim=None)\n",
       ")"
      ]
     },
     "execution_count": 14,
     "metadata": {},
     "output_type": "execute_result"
    }
   ],
   "source": [
    "from src.models.pytorch import get_device\n",
    "\n",
    "device = get_device()\n",
    "model.to(device)"
   ]
  },
  {
   "cell_type": "code",
   "execution_count": 15,
   "metadata": {},
   "outputs": [
    {
     "data": {
      "text/plain": [
       "ClassificationEmbdNN(\n",
       "  (emb_layers): ModuleList(\n",
       "    (0): Embedding(5742, 252)\n",
       "  )\n",
       "  (emb_dropout): Dropout(p=0.2, inplace=False)\n",
       "  (bn_cont): BatchNorm1d(4, eps=1e-05, momentum=0.1, affine=True, track_running_stats=True)\n",
       "  (fc1): Linear(in_features=256, out_features=208, bias=True)\n",
       "  (dropout1): Dropout(p=0.2, inplace=False)\n",
       "  (bn1): BatchNorm1d(208, eps=1e-05, momentum=0.1, affine=True, track_running_stats=True)\n",
       "  (act1): ReLU()\n",
       "  (fc2): Linear(in_features=208, out_features=208, bias=True)\n",
       "  (dropout2): Dropout(p=0.2, inplace=False)\n",
       "  (bn2): BatchNorm1d(208, eps=1e-05, momentum=0.1, affine=True, track_running_stats=True)\n",
       "  (act2): ReLU()\n",
       "  (fc3): Linear(in_features=208, out_features=104, bias=True)\n",
       "  (act3): Softmax(dim=None)\n",
       ")"
      ]
     },
     "execution_count": 15,
     "metadata": {},
     "output_type": "execute_result"
    }
   ],
   "source": [
    "model"
   ]
  },
  {
   "cell_type": "code",
   "execution_count": 16,
   "metadata": {},
   "outputs": [],
   "source": [
    "criterion = torch.nn.CrossEntropyLoss()"
   ]
  },
  {
   "cell_type": "code",
   "execution_count": 27,
   "metadata": {},
   "outputs": [],
   "source": [
    "optimizer = torch.optim.Adam(model.parameters(), lr=0.1)"
   ]
  },
  {
   "cell_type": "code",
   "execution_count": 18,
   "metadata": {},
   "outputs": [],
   "source": [
    "BATCH_SIZE = 300\n",
    "N_EPOCHS = 10"
   ]
  },
  {
   "cell_type": "code",
   "execution_count": 66,
   "metadata": {},
   "outputs": [],
   "source": [
    "# from torch.utils.data.sampler import SubsetRandomSampler\n",
    "\n",
    "# train_sampler = SubsetRandomSampler(X_train)\n",
    "\n",
    "# valid_sampler = SubsetRandomSampler(X_val)\n"
   ]
  },
  {
   "cell_type": "code",
   "execution_count": 19,
   "metadata": {},
   "outputs": [],
   "source": [
    "train_loader = DataLoader(train_dataset,batch_size=BATCH_SIZE,shuffle=True)\n",
    "\n",
    "valid_loader = DataLoader(val_dataset,batch_size=BATCH_SIZE)"
   ]
  },
  {
   "cell_type": "code",
   "execution_count": 20,
   "metadata": {
    "scrolled": true
   },
   "outputs": [],
   "source": [
    "batches = iter(train_loader)"
   ]
  },
  {
   "cell_type": "code",
   "execution_count": 21,
   "metadata": {
    "scrolled": true
   },
   "outputs": [
    {
     "data": {
      "text/plain": [
       "{'data': [tensor([[4950.],\n",
       "          [ 701.],\n",
       "          [4838.],\n",
       "          [3623.],\n",
       "          [4743.],\n",
       "          [1212.],\n",
       "          [4538.],\n",
       "          [5607.],\n",
       "          [5669.],\n",
       "          [4950.],\n",
       "          [4950.],\n",
       "          [2368.],\n",
       "          [3884.],\n",
       "          [4717.],\n",
       "          [5115.],\n",
       "          [4581.],\n",
       "          [ 819.],\n",
       "          [2112.],\n",
       "          [3775.],\n",
       "          [4489.],\n",
       "          [4838.],\n",
       "          [5472.],\n",
       "          [1278.],\n",
       "          [3260.],\n",
       "          [4743.],\n",
       "          [5003.],\n",
       "          [ 528.],\n",
       "          [ 177.],\n",
       "          [5597.],\n",
       "          [1182.],\n",
       "          [1238.],\n",
       "          [2909.],\n",
       "          [ 375.],\n",
       "          [4074.],\n",
       "          [1334.],\n",
       "          [1879.],\n",
       "          [ 701.],\n",
       "          [ 235.],\n",
       "          [1251.],\n",
       "          [5392.],\n",
       "          [1963.],\n",
       "          [ 482.],\n",
       "          [ 701.],\n",
       "          [5078.],\n",
       "          [ 235.],\n",
       "          [ 148.],\n",
       "          [4489.],\n",
       "          [3438.],\n",
       "          [ 144.],\n",
       "          [3431.],\n",
       "          [5115.],\n",
       "          [1168.],\n",
       "          [ 707.],\n",
       "          [ 708.],\n",
       "          [3556.],\n",
       "          [3601.],\n",
       "          [2323.],\n",
       "          [5330.],\n",
       "          [5695.],\n",
       "          [2239.],\n",
       "          [4863.],\n",
       "          [3082.],\n",
       "          [5392.],\n",
       "          [4860.],\n",
       "          [1247.],\n",
       "          [5531.],\n",
       "          [2698.],\n",
       "          [2967.],\n",
       "          [3208.],\n",
       "          [2207.],\n",
       "          [5103.],\n",
       "          [5582.],\n",
       "          [3512.],\n",
       "          [ 355.],\n",
       "          [3841.],\n",
       "          [ 704.],\n",
       "          [2262.],\n",
       "          [5016.],\n",
       "          [3235.],\n",
       "          [2461.],\n",
       "          [4794.],\n",
       "          [1989.],\n",
       "          [5104.],\n",
       "          [2239.],\n",
       "          [4280.],\n",
       "          [ 361.],\n",
       "          [4831.],\n",
       "          [4798.],\n",
       "          [ 104.],\n",
       "          [ 360.],\n",
       "          [  88.],\n",
       "          [1502.],\n",
       "          [2233.],\n",
       "          [ 793.],\n",
       "          [1933.],\n",
       "          [2464.],\n",
       "          [5370.],\n",
       "          [4473.],\n",
       "          [4950.],\n",
       "          [5003.],\n",
       "          [3260.],\n",
       "          [4074.],\n",
       "          [1325.],\n",
       "          [3189.],\n",
       "          [4538.],\n",
       "          [1878.],\n",
       "          [3460.],\n",
       "          [3859.],\n",
       "          [5433.],\n",
       "          [4489.],\n",
       "          [2551.],\n",
       "          [4838.],\n",
       "          [3601.],\n",
       "          [ 413.],\n",
       "          [4958.],\n",
       "          [4884.],\n",
       "          [ 530.],\n",
       "          [4772.],\n",
       "          [ 413.],\n",
       "          [5400.],\n",
       "          [3802.],\n",
       "          [5527.],\n",
       "          [ 360.],\n",
       "          [1414.],\n",
       "          [ 104.],\n",
       "          [5392.],\n",
       "          [3843.],\n",
       "          [4831.],\n",
       "          [2880.],\n",
       "          [ 104.],\n",
       "          [3310.],\n",
       "          [4412.],\n",
       "          [1774.],\n",
       "          [2905.],\n",
       "          [2239.],\n",
       "          [2262.],\n",
       "          [1325.],\n",
       "          [3129.],\n",
       "          [  31.],\n",
       "          [3189.],\n",
       "          [5331.],\n",
       "          [4538.],\n",
       "          [3741.],\n",
       "          [4860.],\n",
       "          [3906.],\n",
       "          [4950.],\n",
       "          [ 151.],\n",
       "          [3804.],\n",
       "          [ 615.],\n",
       "          [2461.],\n",
       "          [4743.],\n",
       "          [ 762.],\n",
       "          [ 385.],\n",
       "          [3841.],\n",
       "          [1963.],\n",
       "          [4928.],\n",
       "          [  88.],\n",
       "          [4950.],\n",
       "          [5553.],\n",
       "          [ 104.],\n",
       "          [1963.],\n",
       "          [5531.],\n",
       "          [5497.],\n",
       "          [4844.],\n",
       "          [5330.],\n",
       "          [4743.],\n",
       "          [ 921.],\n",
       "          [4838.],\n",
       "          [5448.],\n",
       "          [3996.],\n",
       "          [4950.],\n",
       "          [3431.],\n",
       "          [3335.],\n",
       "          [2290.],\n",
       "          [1341.],\n",
       "          [ 114.],\n",
       "          [5167.],\n",
       "          [4733.],\n",
       "          [4335.],\n",
       "          [1197.],\n",
       "          [1704.],\n",
       "          [2318.],\n",
       "          [3551.],\n",
       "          [5330.],\n",
       "          [4936.],\n",
       "          [4838.],\n",
       "          [1963.],\n",
       "          [2927.],\n",
       "          [ 151.],\n",
       "          [5723.],\n",
       "          [ 114.],\n",
       "          [ 163.],\n",
       "          [ 767.],\n",
       "          [1470.],\n",
       "          [3804.],\n",
       "          [ 701.],\n",
       "          [5003.],\n",
       "          [2058.],\n",
       "          [2240.],\n",
       "          [2461.],\n",
       "          [ 701.],\n",
       "          [3895.],\n",
       "          [2967.],\n",
       "          [ 685.],\n",
       "          [3512.],\n",
       "          [5231.],\n",
       "          [4489.],\n",
       "          [1977.],\n",
       "          [4743.],\n",
       "          [2452.],\n",
       "          [1501.],\n",
       "          [4950.],\n",
       "          [ 291.],\n",
       "          [3057.],\n",
       "          [3619.],\n",
       "          [5167.],\n",
       "          [ 587.],\n",
       "          [2262.],\n",
       "          [5242.],\n",
       "          [4760.],\n",
       "          [1326.],\n",
       "          [1701.],\n",
       "          [5330.],\n",
       "          [1897.],\n",
       "          [1933.],\n",
       "          [ 163.],\n",
       "          [4455.],\n",
       "          [4361.],\n",
       "          [4950.],\n",
       "          [4785.],\n",
       "          [5014.],\n",
       "          [5531.],\n",
       "          [1247.],\n",
       "          [1772.],\n",
       "          [4427.],\n",
       "          [1266.],\n",
       "          [3361.],\n",
       "          [2262.],\n",
       "          [4228.],\n",
       "          [ 504.],\n",
       "          [2643.],\n",
       "          [5098.],\n",
       "          [3804.],\n",
       "          [1182.],\n",
       "          [1325.],\n",
       "          [2135.],\n",
       "          [1871.],\n",
       "          [5553.],\n",
       "          [3906.],\n",
       "          [2498.],\n",
       "          [2112.],\n",
       "          [5700.],\n",
       "          [4950.],\n",
       "          [ 596.],\n",
       "          [ 819.],\n",
       "          [ 413.],\n",
       "          [ 413.],\n",
       "          [1655.],\n",
       "          [3796.],\n",
       "          [3692.],\n",
       "          [2514.],\n",
       "          [5360.],\n",
       "          [ 808.],\n",
       "          [2601.],\n",
       "          [3128.],\n",
       "          [4838.],\n",
       "          [4537.],\n",
       "          [4963.],\n",
       "          [ 228.],\n",
       "          [ 701.],\n",
       "          [1198.],\n",
       "          [2463.],\n",
       "          [ 654.],\n",
       "          [3697.],\n",
       "          [3877.],\n",
       "          [5448.],\n",
       "          [ 654.],\n",
       "          [2032.],\n",
       "          [1595.],\n",
       "          [4124.],\n",
       "          [5242.],\n",
       "          [ 688.],\n",
       "          [2421.],\n",
       "          [  57.],\n",
       "          [1560.],\n",
       "          [ 505.],\n",
       "          [1871.],\n",
       "          [  57.],\n",
       "          [5392.],\n",
       "          [4031.],\n",
       "          [2417.],\n",
       "          [3990.],\n",
       "          [ 163.],\n",
       "          [1254.],\n",
       "          [3033.],\n",
       "          [1897.],\n",
       "          [ 767.],\n",
       "          [2261.],\n",
       "          [ 217.],\n",
       "          [2615.]]),\n",
       "  tensor([[ 1.0957,  0.2570,  0.3757,  0.9661],\n",
       "          [-1.0545, -0.5545, -0.3572, -1.0832],\n",
       "          [ 1.0957, -1.3661,  1.1086,  0.9661],\n",
       "          ...,\n",
       "          [-2.4880, -0.5545, -1.0901, -1.7663],\n",
       "          [-3.2047, -2.9893, -3.2889, -2.4494],\n",
       "          [-1.0545,  0.2570,  0.3757, -0.4001]])],\n",
       " 'target': tensor([ 19,  17,  92,  31,  11,   3,   9,  46,  49,  12,  19, 102,   9, 103,\n",
       "          44,   4,  11,  65,  78,  17,   9,   2,  89,   9,  12,  12,  37,  21,\n",
       "          43,  12,  85,  92,  12,  65,  74,  37,  31,  86,  24,  26,   9,  73,\n",
       "          37,   7,  67,  18,   5,  61,  94,  16,  44,   2, 101,  94,  14,  26,\n",
       "         103,  14,   3,  18,  93,  93,  25,  65,  24, 102,  17,  20,  76,   9,\n",
       "          14,  14,  30,   2,  89,  12,   9,  93,  66,  84,  12,  94,  52,  14,\n",
       "          37,  37, 103,  17, 103,  37,   4,   2, 103,  26, 102,  38,  17,  14,\n",
       "           9,  92,  90,  82,  39,   9,  20,  49,  17,  16,  14,  78,  44,   9,\n",
       "          25,  11,   2,  47,  53,  60,  18,  15,   9,  41, 100,  83,  25,  98,\n",
       "          17,  29,  47,  86,   7, 102,   6,  52,  42,  17,  98,  93,   9,   9,\n",
       "           1,   9,   5,  37,  17,  26,   7,  65,  44,   4,  12,  42,  17,  61,\n",
       "          12,  82,  12,  19,  42,  39,  85,  55,  61,  12,  65,  12,  25,  11,\n",
       "          67,  14,  79,   2,  61,  49,  98,   9,  39,  12,  60,  78, 102,  49,\n",
       "          76,   2, 103,  12,   7,  60,  31,  53,  14, 103,  63,  44,  60,  10,\n",
       "          43,  83,  39,  89, 103,  19,  24,  14,  73,  12,  19,  38,  14,   9,\n",
       "          41,  12,  12,  93,   1, 103,  61,   9,  89,  46,  98,  92,  44,  23,\n",
       "          14, 103,  14, 102,  11,  12,  12,  60,  25,  48,  45,  58,   0,  12,\n",
       "          11,  89,  94,  44,  37,   9,  86,  14,   9,  42,   2,  95,  65,   2,\n",
       "           2,  39,  90,   9,  37,  59,  44,  15,  80,  34,  26,  12,  84,  17,\n",
       "          94,  98,  81,  60,  39, 103,  99,  16,  17,  61,  99,  16,  99,   4,\n",
       "          78,  39,  78,   2,  59,   7,  97,  60,  24,   1,  26,  50,  76,  98,\n",
       "           9,  11,  63,   1,  17,  89])}"
      ]
     },
     "execution_count": 21,
     "metadata": {},
     "output_type": "execute_result"
    }
   ],
   "source": [
    "next(batches)"
   ]
  },
  {
   "cell_type": "code",
   "execution_count": 22,
   "metadata": {
    "scrolled": true
   },
   "outputs": [
    {
     "data": {
      "text/plain": [
       "{'data': [tensor([[3791.],\n",
       "          [1341.],\n",
       "          [3799.],\n",
       "          [4473.],\n",
       "          [3747.],\n",
       "          [ 413.],\n",
       "          [3935.],\n",
       "          [ 384.],\n",
       "          [ 701.],\n",
       "          [2318.],\n",
       "          [ 291.],\n",
       "          [1282.],\n",
       "          [1450.],\n",
       "          [2239.],\n",
       "          [4794.],\n",
       "          [3033.],\n",
       "          [ 177.],\n",
       "          [1238.],\n",
       "          [5377.],\n",
       "          [ 151.],\n",
       "          [1342.],\n",
       "          [2262.],\n",
       "          [ 412.],\n",
       "          [5531.],\n",
       "          [5607.],\n",
       "          [ 413.],\n",
       "          [ 701.],\n",
       "          [2601.],\n",
       "          [2262.],\n",
       "          [4667.],\n",
       "          [5405.],\n",
       "          [  97.],\n",
       "          [1963.],\n",
       "          [ 154.],\n",
       "          [4963.],\n",
       "          [4843.],\n",
       "          [4950.],\n",
       "          [2880.],\n",
       "          [2884.],\n",
       "          [4843.],\n",
       "          [2262.],\n",
       "          [3841.],\n",
       "          [1032.],\n",
       "          [  57.],\n",
       "          [1282.],\n",
       "          [5078.],\n",
       "          [ 911.],\n",
       "          [3189.],\n",
       "          [4228.],\n",
       "          [ 173.],\n",
       "          [3014.],\n",
       "          [3802.],\n",
       "          [3608.],\n",
       "          [4950.],\n",
       "          [3547.],\n",
       "          [2464.],\n",
       "          [4094.],\n",
       "          [2967.],\n",
       "          [3872.],\n",
       "          [4598.],\n",
       "          [4762.],\n",
       "          [ 360.],\n",
       "          [2461.],\n",
       "          [4743.],\n",
       "          [3049.],\n",
       "          [ 277.],\n",
       "          [5167.],\n",
       "          [1326.],\n",
       "          [4473.],\n",
       "          [4010.],\n",
       "          [  94.],\n",
       "          [5132.],\n",
       "          [ 701.],\n",
       "          [ 163.],\n",
       "          [2484.],\n",
       "          [1963.],\n",
       "          [4950.],\n",
       "          [2262.],\n",
       "          [3595.],\n",
       "          [4228.],\n",
       "          [ 151.],\n",
       "          [3799.],\n",
       "          [3547.],\n",
       "          [1933.],\n",
       "          [4489.],\n",
       "          [5078.],\n",
       "          [5261.],\n",
       "          [1871.],\n",
       "          [5370.],\n",
       "          [1190.],\n",
       "          [3608.],\n",
       "          [2523.],\n",
       "          [1515.],\n",
       "          [ 375.],\n",
       "          [1335.],\n",
       "          [2523.],\n",
       "          [5507.],\n",
       "          [1776.],\n",
       "          [ 688.],\n",
       "          [ 701.],\n",
       "          [5078.],\n",
       "          [4598.],\n",
       "          [ 437.],\n",
       "          [ 831.],\n",
       "          [2461.],\n",
       "          [5448.],\n",
       "          [3431.],\n",
       "          [4361.],\n",
       "          [3396.],\n",
       "          [4843.],\n",
       "          [1453.],\n",
       "          [1299.],\n",
       "          [2207.],\n",
       "          [3512.],\n",
       "          [3189.],\n",
       "          [1325.],\n",
       "          [4990.],\n",
       "          [3297.],\n",
       "          [ 701.],\n",
       "          [  57.],\n",
       "          [1334.],\n",
       "          [3608.],\n",
       "          [1925.],\n",
       "          [4598.],\n",
       "          [4241.],\n",
       "          [5112.],\n",
       "          [1306.],\n",
       "          [ 413.],\n",
       "          [4489.],\n",
       "          [5562.],\n",
       "          [2498.],\n",
       "          [1558.],\n",
       "          [3438.],\n",
       "          [1719.],\n",
       "          [4642.],\n",
       "          [4762.],\n",
       "          [3478.],\n",
       "          [1963.],\n",
       "          [ 202.],\n",
       "          [ 235.],\n",
       "          [ 707.],\n",
       "          [ 235.],\n",
       "          [4228.],\n",
       "          [ 831.],\n",
       "          [3799.],\n",
       "          [2240.],\n",
       "          [5208.],\n",
       "          [2368.],\n",
       "          [3601.],\n",
       "          [1933.],\n",
       "          [3638.],\n",
       "          [4239.],\n",
       "          [5660.],\n",
       "          [2417.],\n",
       "          [ 770.],\n",
       "          [5003.],\n",
       "          [1085.],\n",
       "          [2781.],\n",
       "          [2551.],\n",
       "          [4743.],\n",
       "          [5448.],\n",
       "          [2239.],\n",
       "          [5182.],\n",
       "          [5553.],\n",
       "          [2464.],\n",
       "          [4538.],\n",
       "          [4880.],\n",
       "          [3805.],\n",
       "          [4617.],\n",
       "          [3638.],\n",
       "          [1719.],\n",
       "          [3548.],\n",
       "          [4412.],\n",
       "          [3841.],\n",
       "          [2909.],\n",
       "          [ 701.],\n",
       "          [ 819.],\n",
       "          [2769.],\n",
       "          [ 707.],\n",
       "          [ 375.],\n",
       "          [ 707.],\n",
       "          [ 505.],\n",
       "          [5448.],\n",
       "          [4473.],\n",
       "          [2544.],\n",
       "          [5128.],\n",
       "          [4412.],\n",
       "          [4624.],\n",
       "          [1776.],\n",
       "          [4743.],\n",
       "          [3896.],\n",
       "          [2417.],\n",
       "          [2797.],\n",
       "          [ 701.],\n",
       "          [4050.],\n",
       "          [3879.],\n",
       "          [3877.],\n",
       "          [ 375.],\n",
       "          [4950.],\n",
       "          [2927.],\n",
       "          [2207.],\n",
       "          [1933.],\n",
       "          [2698.],\n",
       "          [4743.],\n",
       "          [3260.],\n",
       "          [4538.],\n",
       "          [5293.],\n",
       "          [4794.],\n",
       "          [2909.],\n",
       "          [3083.],\n",
       "          [4743.],\n",
       "          [5278.],\n",
       "          [5208.],\n",
       "          [2262.],\n",
       "          [ 235.],\n",
       "          [3315.],\n",
       "          [ 701.],\n",
       "          [4884.],\n",
       "          [5553.],\n",
       "          [1963.],\n",
       "          [1507.],\n",
       "          [2262.],\n",
       "          [2417.],\n",
       "          [ 701.],\n",
       "          [2262.],\n",
       "          [ 104.],\n",
       "          [4950.],\n",
       "          [ 568.],\n",
       "          [5521.],\n",
       "          [ 701.],\n",
       "          [3189.],\n",
       "          [5370.],\n",
       "          [ 163.],\n",
       "          [4743.],\n",
       "          [3747.],\n",
       "          [2262.],\n",
       "          [4711.],\n",
       "          [5330.],\n",
       "          [ 596.],\n",
       "          [4228.],\n",
       "          [3802.],\n",
       "          [2909.],\n",
       "          [ 461.],\n",
       "          [2464.],\n",
       "          [4122.],\n",
       "          [1963.],\n",
       "          [1504.],\n",
       "          [ 235.],\n",
       "          [4743.],\n",
       "          [2207.],\n",
       "          [ 197.],\n",
       "          [ 375.],\n",
       "          [3608.],\n",
       "          [3799.],\n",
       "          [5078.],\n",
       "          [ 114.],\n",
       "          [ 831.],\n",
       "          [3804.],\n",
       "          [4538.],\n",
       "          [3991.],\n",
       "          [  10.],\n",
       "          [ 707.],\n",
       "          [4145.],\n",
       "          [2461.],\n",
       "          [5303.],\n",
       "          [3682.],\n",
       "          [2440.],\n",
       "          [2536.],\n",
       "          [2075.],\n",
       "          [3060.],\n",
       "          [1776.],\n",
       "          [2735.],\n",
       "          [ 104.],\n",
       "          [4950.],\n",
       "          [ 163.],\n",
       "          [1776.],\n",
       "          [2318.],\n",
       "          [5112.],\n",
       "          [4922.],\n",
       "          [2909.],\n",
       "          [2194.],\n",
       "          [1963.],\n",
       "          [ 916.],\n",
       "          [5308.],\n",
       "          [3805.],\n",
       "          [1335.],\n",
       "          [ 326.],\n",
       "          [1933.],\n",
       "          [1897.],\n",
       "          [1936.],\n",
       "          [2262.],\n",
       "          [5725.],\n",
       "          [1963.],\n",
       "          [5448.],\n",
       "          [1195.],\n",
       "          [3079.],\n",
       "          [1275.],\n",
       "          [1448.],\n",
       "          [4743.],\n",
       "          [4950.]]),\n",
       "  tensor([[-1.0545,  0.2570, -0.3572, -1.0832],\n",
       "          [ 0.3790,  1.0686, -2.5560,  0.9661],\n",
       "          [ 0.3790,  1.0686, -0.3572,  0.9661],\n",
       "          ...,\n",
       "          [-1.7712, -2.9893, -1.8230, -0.4001],\n",
       "          [ 0.3790,  1.0686,  0.3757,  0.2830],\n",
       "          [ 1.0957,  1.8802,  1.1086,  0.9661]])],\n",
       " 'target': tensor([ 44,  39,  12,  81,  47,  18,  67,  14,  82,  49,  14,  23,  14,   9,\n",
       "          84,  12,   9,  85,   2,  33,  39,  89,   1,  83,  96,   9,  76,  12,\n",
       "           9, 100,   9,  11,  74,  12,  61,  82,  23,  47,  92,  81,  11,  84,\n",
       "          37,   7,  23,  11,  24, 100,   9,  68,  35,  61,  12,   7,  89,  46,\n",
       "          37,  85,  44,  89,  90,  71,  26,  12,  36,  47,  86,  21,  12,  59,\n",
       "           6,  19,  60,   1,  47,  18,  89,  94, 103,   9, 102,  14,  46,  42,\n",
       "           4,  11,  61,  89,   7,  18,  12,  67,  47,  11,  23,  59,  14,  76,\n",
       "          12,  12,  79,  49,  94,  26,  92,   4,  60,  81,  81,  37,  82,  25,\n",
       "           9,  18,  92,  98,  47,  16,  16,  39,  26,  12,  18,  44,  14,  98,\n",
       "          74,  11,   6,  79,  55,   4,  31,  23,  60,  61,   1,  10,   1,  84,\n",
       "         102,  12,   9,  92,   6,  59,  12,  35,  25,  14,  12,  12,  55,  59,\n",
       "          29,  12,  37,   9,  12,   9,  98,  14,  30,  42, 103,  12,  61,  85,\n",
       "          83,  14,  23,  49,  55,  26, 101,  60,  12,  42,  17,  90,  16,  17,\n",
       "          61,  18,  19,  47,  12,  69, 103,  86,  44,  24,  17,  93,  17,  43,\n",
       "           6,  27,  11,  89,  19,  12,  17,  19,  89,  20,  25,  12,  44,  80,\n",
       "          19,   7,   0,  12,  92,   2,  37,  51,  12,  85,  16,  11,  11, 103,\n",
       "          90,  98,  79,  42, 100, 103,   9,  17,  76,   9,  65,  60,  17,  44,\n",
       "          25,   9,  19,  14, 103,  19,  73,  25,  20,   9,  12,  42,  69,   2,\n",
       "          11,  22,  14,   4,  92,  27,   9,  82,  14,  82,   1,   4,  94,   2,\n",
       "          14,  89,  60,  65,  39,  42,  98,   9,  17,  76,  55,  26,  53,  20,\n",
       "          15,  18,  86,  49,  37,  57,  65,  18,  89,   1,  12,  97,  25,  12,\n",
       "          36,  37,  86,  36,  12,  89])}"
      ]
     },
     "execution_count": 22,
     "metadata": {},
     "output_type": "execute_result"
    }
   ],
   "source": [
    "next(batches)"
   ]
  },
  {
   "cell_type": "code",
   "execution_count": 33,
   "metadata": {
    "scrolled": true
   },
   "outputs": [
    {
     "data": {
      "text/plain": [
       "{'data': [tensor([[4884.],\n",
       "          [ 163.],\n",
       "          [ 217.],\n",
       "          [ 163.],\n",
       "          [2262.],\n",
       "          [5378.],\n",
       "          [4280.],\n",
       "          [ 413.],\n",
       "          [5003.],\n",
       "          [2461.],\n",
       "          [2461.],\n",
       "          [2316.],\n",
       "          [3841.],\n",
       "          [5066.],\n",
       "          [4453.],\n",
       "          [2461.],\n",
       "          [3341.],\n",
       "          [ 151.],\n",
       "          [4830.],\n",
       "          [2239.],\n",
       "          [5014.],\n",
       "          [3237.],\n",
       "          [2514.],\n",
       "          [5378.],\n",
       "          [5014.],\n",
       "          [5448.],\n",
       "          [3189.],\n",
       "          [5242.],\n",
       "          [2523.],\n",
       "          [1605.],\n",
       "          [2601.],\n",
       "          [5364.],\n",
       "          [ 163.],\n",
       "          [5078.],\n",
       "          [ 224.],\n",
       "          [2689.],\n",
       "          [4132.],\n",
       "          [ 375.],\n",
       "          [ 360.],\n",
       "          [3888.],\n",
       "          [2239.],\n",
       "          [5392.],\n",
       "          [1334.],\n",
       "          [4598.],\n",
       "          [1951.],\n",
       "          [4680.],\n",
       "          [1306.],\n",
       "          [5330.],\n",
       "          [ 154.],\n",
       "          [3804.],\n",
       "          [4950.],\n",
       "          [ 386.],\n",
       "          [2927.],\n",
       "          [4794.],\n",
       "          [4228.],\n",
       "          [1776.],\n",
       "          [3843.],\n",
       "          [ 291.],\n",
       "          [2909.],\n",
       "          [1871.],\n",
       "          [4228.],\n",
       "          [2239.],\n",
       "          [3431.],\n",
       "          [ 509.],\n",
       "          [2262.],\n",
       "          [4453.],\n",
       "          [1168.],\n",
       "          [5370.],\n",
       "          [3057.],\n",
       "          [4538.],\n",
       "          [2989.],\n",
       "          [ 701.],\n",
       "          [3526.],\n",
       "          [ 587.],\n",
       "          [5726.],\n",
       "          [ 235.],\n",
       "          [1506.],\n",
       "          [1933.],\n",
       "          [4077.],\n",
       "          [4262.],\n",
       "          [4794.],\n",
       "          [ 615.],\n",
       "          [ 413.],\n",
       "          [ 177.],\n",
       "          [4743.],\n",
       "          [ 235.],\n",
       "          [2698.],\n",
       "          [4950.],\n",
       "          [2262.],\n",
       "          [2270.],\n",
       "          [2523.],\n",
       "          [3194.],\n",
       "          [4280.],\n",
       "          [3799.],\n",
       "          [4963.],\n",
       "          [3804.],\n",
       "          [3341.],\n",
       "          [5253.],\n",
       "          [1933.],\n",
       "          [ 911.],\n",
       "          [5003.],\n",
       "          [1338.],\n",
       "          [1285.],\n",
       "          [3099.],\n",
       "          [1899.],\n",
       "          [4832.],\n",
       "          [4031.],\n",
       "          [5448.],\n",
       "          [2927.],\n",
       "          [ 836.],\n",
       "          [4863.],\n",
       "          [3841.],\n",
       "          [ 829.],\n",
       "          [5242.],\n",
       "          [1306.],\n",
       "          [5448.],\n",
       "          [5112.],\n",
       "          [1776.],\n",
       "          [2642.],\n",
       "          [1303.],\n",
       "          [4950.],\n",
       "          [4280.],\n",
       "          [4611.],\n",
       "          [2967.],\n",
       "          [2262.],\n",
       "          [ 767.],\n",
       "          [3208.],\n",
       "          [4843.],\n",
       "          [ 154.],\n",
       "          [4357.],\n",
       "          [1314.],\n",
       "          [2927.],\n",
       "          [4226.],\n",
       "          [4748.],\n",
       "          [3809.],\n",
       "          [  48.],\n",
       "          [1325.],\n",
       "          [ 151.],\n",
       "          [1895.],\n",
       "          [ 413.],\n",
       "          [5112.],\n",
       "          [4794.],\n",
       "          [4412.],\n",
       "          [1515.],\n",
       "          [1719.],\n",
       "          [5278.],\n",
       "          [4537.],\n",
       "          [4141.],\n",
       "          [ 596.],\n",
       "          [4540.],\n",
       "          [2112.],\n",
       "          [4241.],\n",
       "          [3996.],\n",
       "          [4619.],\n",
       "          [2601.],\n",
       "          [5582.],\n",
       "          [1936.],\n",
       "          [3799.],\n",
       "          [5527.],\n",
       "          [3596.],\n",
       "          [4485.],\n",
       "          [2523.],\n",
       "          [ 104.],\n",
       "          [1558.],\n",
       "          [2412.],\n",
       "          [ 598.],\n",
       "          [2262.],\n",
       "          [ 235.],\n",
       "          [ 151.],\n",
       "          [4682.],\n",
       "          [4794.],\n",
       "          [ 440.],\n",
       "          [3788.],\n",
       "          [2512.],\n",
       "          [ 716.],\n",
       "          [ 411.],\n",
       "          [2262.],\n",
       "          [1238.],\n",
       "          [1168.],\n",
       "          [3608.],\n",
       "          [4624.],\n",
       "          [5332.],\n",
       "          [4384.],\n",
       "          [ 697.],\n",
       "          [1933.],\n",
       "          [4863.],\n",
       "          [ 151.],\n",
       "          [ 911.],\n",
       "          [4743.],\n",
       "          [2262.],\n",
       "          [ 831.],\n",
       "          [1325.],\n",
       "          [4748.],\n",
       "          [4241.],\n",
       "          [4489.],\n",
       "          [2318.],\n",
       "          [4353.],\n",
       "          [4447.],\n",
       "          [2464.],\n",
       "          [3804.],\n",
       "          [2417.],\n",
       "          [1473.],\n",
       "          [4863.],\n",
       "          [2523.],\n",
       "          [  57.],\n",
       "          [5448.],\n",
       "          [2464.],\n",
       "          [4950.],\n",
       "          [5242.],\n",
       "          [5003.],\n",
       "          [4733.],\n",
       "          [5563.],\n",
       "          [5392.],\n",
       "          [5485.],\n",
       "          [4838.],\n",
       "          [2967.],\n",
       "          [3512.],\n",
       "          [1776.],\n",
       "          [4794.],\n",
       "          [1198.],\n",
       "          [1198.],\n",
       "          [4031.],\n",
       "          [2529.],\n",
       "          [3596.],\n",
       "          [3189.],\n",
       "          [2537.],\n",
       "          [ 151.],\n",
       "          [2601.],\n",
       "          [ 413.],\n",
       "          [4489.],\n",
       "          [1728.],\n",
       "          [2536.],\n",
       "          [1414.],\n",
       "          [2262.],\n",
       "          [5278.],\n",
       "          [ 413.],\n",
       "          [5003.],\n",
       "          [4972.],\n",
       "          [1318.],\n",
       "          [1963.],\n",
       "          [2668.],\n",
       "          [3804.],\n",
       "          [3872.],\n",
       "          [4838.],\n",
       "          [ 163.],\n",
       "          [4963.],\n",
       "          [5392.],\n",
       "          [2464.],\n",
       "          [ 151.],\n",
       "          [ 701.],\n",
       "          [1314.],\n",
       "          [4863.],\n",
       "          [ 670.],\n",
       "          [1342.],\n",
       "          [5737.],\n",
       "          [3906.],\n",
       "          [5553.],\n",
       "          [4489.],\n",
       "          [4489.],\n",
       "          [ 413.],\n",
       "          [ 163.],\n",
       "          [ 363.],\n",
       "          [3847.],\n",
       "          [5527.],\n",
       "          [4950.],\n",
       "          [1933.],\n",
       "          [5529.],\n",
       "          [3677.],\n",
       "          [3624.],\n",
       "          [1198.],\n",
       "          [1330.],\n",
       "          [1334.],\n",
       "          [3853.],\n",
       "          [ 515.],\n",
       "          [5132.],\n",
       "          [ 704.],\n",
       "          [4838.],\n",
       "          [4838.],\n",
       "          [3294.],\n",
       "          [4489.],\n",
       "          [  97.],\n",
       "          [1198.],\n",
       "          [ 701.],\n",
       "          [3189.],\n",
       "          [4950.],\n",
       "          [4939.],\n",
       "          [3128.],\n",
       "          [3692.],\n",
       "          [4743.],\n",
       "          [ 767.],\n",
       "          [2262.],\n",
       "          [ 701.],\n",
       "          [5115.],\n",
       "          [ 596.],\n",
       "          [4729.],\n",
       "          [ 819.],\n",
       "          [5364.],\n",
       "          [ 707.],\n",
       "          [2461.],\n",
       "          [1238.]]),\n",
       "  tensor([[ 0.3790,  0.2570,  0.3757,  0.2830],\n",
       "          [-1.0545, -0.5545, -1.0901, -1.0832],\n",
       "          [-0.3378,  0.2570, -0.3572,  0.2830],\n",
       "          ...,\n",
       "          [-0.3378,  1.0686, -1.8230, -1.0832],\n",
       "          [ 0.3790,  1.0686,  1.1086,  0.9661],\n",
       "          [-0.3378,  0.2570,  0.3757, -0.4001]])],\n",
       " 'target': tensor([ 79,  31,  80,  15,  84,   0,  65,  11,  79,  23,  89,  93,  61,  27,\n",
       "          53,  84,  65,  33,  14, 103,  86,  44,  80,   0,  12,   9,  19,  14,\n",
       "          68,   1,  16,  98,  77,  14,   3,  18,  84,  12,  81,  44,  17,  98,\n",
       "          26,  46,  82,  17,  74,  17,  16,  20,   2,  66,   3,  14,   9,  76,\n",
       "          14,   2,  44,  60,  89,  21,  60,  12,  11,  31,   7,  17,  15,  24,\n",
       "          65,  31,   2,  61,  36,   4,  79,  14,   1,  92,  86,  47,  14,   2,\n",
       "          14,  67,  16,  17,  90,  83,  67,  35,  37,  24,  17,  60,  65,  32,\n",
       "          42,  24,  12,  58,  26,  17,   7,   6,  13, 103,  60,  92,  67,  26,\n",
       "          25,   9,  74,  12,  66,  16,  42,  26,  17,  37,  18,  29,  94,  74,\n",
       "          37,  37,  16,  61,  63,  60,  36,  55,  45,  24,  39,  31,  58,  16,\n",
       "          25,  17,  36,  47,  23,  37,  94,   6,  98,  12,  65,  12,   9,  20,\n",
       "           9,  16,   1,  16,  65,  51,  16,  68,  39,  14,  11,  14,  90,  86,\n",
       "         102, 102,  99,  61,   2,  52,  18,  94,  94,  89,  17,  70,  69,  49,\n",
       "          55,  14,   9,   1, 102,  24,  86,  94,  92,  39,  94,  98,  66,  49,\n",
       "           5,  90,  17,  40,  17,  89,  78,  77,  76,  12,  68,  19,  89,  43,\n",
       "          12,  26,  98,  90,  19,  25,  68,  76,  94,  22,  39,   1,  47,  51,\n",
       "           2,  81, 102,  16, 103,   7,  82,  89,  60,  11,  37,  19,  43,   1,\n",
       "          58,  25,   9,  60,   4,  12,  76,  42,  25,  31,  17,   4,  63,  37,\n",
       "          36,  24,  37,  20,   9,  60,  16,  89,   3,  12,   5,  65,   5,  18,\n",
       "          89,  14,  59,  29,  75,  86,   9,  77,  42,  89,  19,   2,  84,  83,\n",
       "           9,  39,  82,  16,  14,  16,  84,   1,  12,  74,   9,  60,  44,  25,\n",
       "          66,  11,   0,   9,  89,  90])}"
      ]
     },
     "execution_count": 33,
     "metadata": {},
     "output_type": "execute_result"
    }
   ],
   "source": [
    "next(iter(valid_loader))"
   ]
  },
  {
   "cell_type": "code",
   "execution_count": 23,
   "metadata": {},
   "outputs": [
    {
     "name": "stdout",
     "output_type": "stream",
     "text": [
      "<torch.utils.data.sampler.SequentialSampler object at 0x7f0b39d4e450>\n"
     ]
    }
   ],
   "source": [
    "print(valid_loader.sampler)"
   ]
  },
  {
   "cell_type": "code",
   "execution_count": 24,
   "metadata": {},
   "outputs": [],
   "source": [
    "from tqdm import tqdm_notebook as tqdm"
   ]
  },
  {
   "cell_type": "code",
   "execution_count": 25,
   "metadata": {},
   "outputs": [],
   "source": [
    "def train_network(model, train_loader, valid_loader,\n",
    "                  loss_func, optimizer, n_epochs=20,\n",
    "                  saved_model='model.pt'):\n",
    "    \n",
    "    device = torch.device('cuda:0' if torch.cuda.is_available() else 'cpu')\n",
    "    model.to(device)\n",
    "    \n",
    "    train_losses = list()\n",
    "    valid_losses = list()\n",
    "    \n",
    "    valid_loss_min = np.Inf\n",
    "    \n",
    "    for epoch in range(n_epochs):\n",
    "        \n",
    "        train_loss = 0.0\n",
    "        valid_loss = 0.0\n",
    "        \n",
    "        train_acc = 0.0\n",
    "        valid_acc = 0.0\n",
    "        \n",
    "        model.train()\n",
    "        for batch in tqdm(train_loader):\n",
    "            optimizer.zero_grad()\n",
    "            \n",
    "            output = model(batch['data'][0].to(device, \n",
    "                                               dtype=torch.long),\n",
    "                           batch['data'][1].to(device, \n",
    "                                               dtype=torch.float))\n",
    "            \n",
    "            loss = loss_func(output, batch['target'].to(device, \n",
    "                                                        dtype=torch.long))\n",
    "            \n",
    "            train_loss += loss.item() * batch['data'][0].size(0)\n",
    "            \n",
    "            loss.backward()\n",
    "            optimizer.step()\n",
    "            \n",
    "            # Calculate global accuracy\n",
    "            train_acc += (output.argmax(1) == batch['target']).sum().item()\n",
    "\n",
    "            \n",
    "    \n",
    "\n",
    "        model.eval()\n",
    "        for batch in tqdm(valid_loader):\n",
    "            output = model(batch['data'][0].to(device, \n",
    "                                               dtype=torch.long),\n",
    "                           batch['data'][1].to(device, \n",
    "                                               dtype=torch.float))\n",
    "            \n",
    "            \n",
    "            loss = loss_func(output, batch['target'].to(device, \n",
    "                                                        dtype=torch.long))\n",
    "            \n",
    "            valid_loss += loss.item() * batch['data'][0].size(0)  #!!!\n",
    "            # Calculate global accuracy\n",
    "            valid_acc += (output.argmax(1) == batch['target']).sum().item()\n",
    "        \n",
    "        train_loss = np.sqrt(train_loss / len(train_loader))\n",
    "        valid_loss = np.sqrt(valid_loss / len(valid_loader))\n",
    "\n",
    "        train_acc = train_acc / len(train_loader)\n",
    "        valid_acc = valid_acc / len(valid_loader)\n",
    "        \n",
    "        train_losses.append(train_loss)\n",
    "        valid_losses.append(valid_loss)\n",
    "\n",
    "        print('Epoch: {}. Training loss: {:.8f}. Validation loss: {:.8f}'\n",
    "              .format(epoch, train_loss, valid_loss))\n",
    "        print('Training Accuracy: {:.8f}. Validation Accuracy: {:.8f}'\n",
    "              .format(train_acc, valid_acc))\n",
    "        \n",
    "        if valid_loss < valid_loss_min:  # let's save the best weights to use them in prediction\n",
    "            print('Validation loss decreased ({:.8f} --> {:.8f}). Saving model...'\n",
    "                  .format(valid_loss_min, valid_loss))\n",
    "            \n",
    "            torch.save(model.state_dict(), saved_model)\n",
    "            valid_loss_min = valid_loss\n",
    "            \n",
    "    \n",
    "    return train_losses, valid_losses"
   ]
  },
  {
   "cell_type": "code",
   "execution_count": 28,
   "metadata": {},
   "outputs": [
    {
     "name": "stderr",
     "output_type": "stream",
     "text": [
      "/opt/conda/lib/python3.7/site-packages/ipykernel_launcher.py:22: TqdmDeprecationWarning: This function will be removed in tqdm==5.0.0\n",
      "Please use `tqdm.notebook.tqdm` instead of `tqdm.tqdm_notebook`\n"
     ]
    },
    {
     "data": {
      "application/vnd.jupyter.widget-view+json": {
       "model_id": "9a3c95a34aef4d698b09c88dbb38da78",
       "version_major": 2,
       "version_minor": 0
      },
      "text/plain": [
       "HBox(children=(FloatProgress(value=0.0, max=3174.0), HTML(value='')))"
      ]
     },
     "metadata": {},
     "output_type": "display_data"
    },
    {
     "name": "stderr",
     "output_type": "stream",
     "text": [
      "/opt/conda/lib/python3.7/site-packages/ipykernel_launcher.py:73: UserWarning: Implicit dimension choice for softmax has been deprecated. Change the call to include dim=X as an argument.\n"
     ]
    },
    {
     "name": "stdout",
     "output_type": "stream",
     "text": [
      "\n"
     ]
    },
    {
     "name": "stderr",
     "output_type": "stream",
     "text": [
      "/opt/conda/lib/python3.7/site-packages/ipykernel_launcher.py:45: TqdmDeprecationWarning: This function will be removed in tqdm==5.0.0\n",
      "Please use `tqdm.notebook.tqdm` instead of `tqdm.tqdm_notebook`\n"
     ]
    },
    {
     "data": {
      "application/vnd.jupyter.widget-view+json": {
       "model_id": "2f71c3400eb442b698b2525410e32a11",
       "version_major": 2,
       "version_minor": 0
      },
      "text/plain": [
       "HBox(children=(FloatProgress(value=0.0, max=1058.0), HTML(value='')))"
      ]
     },
     "metadata": {},
     "output_type": "display_data"
    },
    {
     "name": "stdout",
     "output_type": "stream",
     "text": [
      "\n",
      "Epoch: 0. Training loss: 37.07604849. Validation loss: 37.09084730\n",
      "Training Accuracy: 23.24417139. Validation Accuracy: 22.14744802\n",
      "Validation loss decreased (inf --> 37.09084730). Saving model...\n"
     ]
    },
    {
     "data": {
      "application/vnd.jupyter.widget-view+json": {
       "model_id": "933c0988553748198c032d394c792181",
       "version_major": 2,
       "version_minor": 0
      },
      "text/plain": [
       "HBox(children=(FloatProgress(value=0.0, max=3174.0), HTML(value='')))"
      ]
     },
     "metadata": {},
     "output_type": "display_data"
    },
    {
     "name": "stdout",
     "output_type": "stream",
     "text": [
      "\n"
     ]
    },
    {
     "data": {
      "application/vnd.jupyter.widget-view+json": {
       "model_id": "eaf0b344c6394e2da35dc055dc920961",
       "version_major": 2,
       "version_minor": 0
      },
      "text/plain": [
       "HBox(children=(FloatProgress(value=0.0, max=1058.0), HTML(value='')))"
      ]
     },
     "metadata": {},
     "output_type": "display_data"
    },
    {
     "name": "stdout",
     "output_type": "stream",
     "text": [
      "\n",
      "Epoch: 1. Training loss: 37.10066659. Validation loss: 37.09084730\n",
      "Training Accuracy: 21.41682420. Validation Accuracy: 22.14744802\n"
     ]
    },
    {
     "data": {
      "application/vnd.jupyter.widget-view+json": {
       "model_id": "4ce4ce7c43774a798f26e86e8a1e9ba9",
       "version_major": 2,
       "version_minor": 0
      },
      "text/plain": [
       "HBox(children=(FloatProgress(value=0.0, max=3174.0), HTML(value='')))"
      ]
     },
     "metadata": {},
     "output_type": "display_data"
    },
    {
     "name": "stdout",
     "output_type": "stream",
     "text": [
      "\n"
     ]
    },
    {
     "data": {
      "application/vnd.jupyter.widget-view+json": {
       "model_id": "55ea42953f2a439292de29a14a64d8f8",
       "version_major": 2,
       "version_minor": 0
      },
      "text/plain": [
       "HBox(children=(FloatProgress(value=0.0, max=1058.0), HTML(value='')))"
      ]
     },
     "metadata": {},
     "output_type": "display_data"
    },
    {
     "name": "stdout",
     "output_type": "stream",
     "text": [
      "\n",
      "Epoch: 2. Training loss: 37.08895869. Validation loss: 37.09084730\n",
      "Training Accuracy: 22.28607435. Validation Accuracy: 22.14744802\n"
     ]
    },
    {
     "data": {
      "application/vnd.jupyter.widget-view+json": {
       "model_id": "a228545bb34f4d47867b9474170d498e",
       "version_major": 2,
       "version_minor": 0
      },
      "text/plain": [
       "HBox(children=(FloatProgress(value=0.0, max=3174.0), HTML(value='')))"
      ]
     },
     "metadata": {},
     "output_type": "display_data"
    },
    {
     "name": "stdout",
     "output_type": "stream",
     "text": [
      "\n"
     ]
    },
    {
     "data": {
      "application/vnd.jupyter.widget-view+json": {
       "model_id": "b8dd850b805041c28b2501c84363e37d",
       "version_major": 2,
       "version_minor": 0
      },
      "text/plain": [
       "HBox(children=(FloatProgress(value=0.0, max=1058.0), HTML(value='')))"
      ]
     },
     "metadata": {},
     "output_type": "display_data"
    },
    {
     "name": "stdout",
     "output_type": "stream",
     "text": [
      "\n",
      "Epoch: 3. Training loss: 37.08897145. Validation loss: 37.09084730\n",
      "Training Accuracy: 22.28512917. Validation Accuracy: 22.14744802\n"
     ]
    },
    {
     "data": {
      "application/vnd.jupyter.widget-view+json": {
       "model_id": "1b12cf8c115f4f8ca8fca4facc2dc81b",
       "version_major": 2,
       "version_minor": 0
      },
      "text/plain": [
       "HBox(children=(FloatProgress(value=0.0, max=3174.0), HTML(value='')))"
      ]
     },
     "metadata": {},
     "output_type": "display_data"
    },
    {
     "name": "stdout",
     "output_type": "stream",
     "text": [
      "\n"
     ]
    },
    {
     "data": {
      "application/vnd.jupyter.widget-view+json": {
       "model_id": "7bb97d71944d4f23a7b811f664ad90db",
       "version_major": 2,
       "version_minor": 0
      },
      "text/plain": [
       "HBox(children=(FloatProgress(value=0.0, max=1058.0), HTML(value='')))"
      ]
     },
     "metadata": {},
     "output_type": "display_data"
    },
    {
     "name": "stdout",
     "output_type": "stream",
     "text": [
      "\n",
      "Epoch: 4. Training loss: 37.08890339. Validation loss: 37.09084730\n",
      "Training Accuracy: 22.29017013. Validation Accuracy: 22.14744802\n"
     ]
    }
   ],
   "source": [
    "train_losses, valid_losses = train_network(model=model, \n",
    "                                           train_loader=train_loader, \n",
    "                                           valid_loader=valid_loader, \n",
    "                                           loss_func=criterion, \n",
    "                                           optimizer=optimizer,\n",
    "                                           n_epochs=5, \n",
    "                                           saved_model='../models/embed_3layers.pt')"
   ]
  },
  {
   "cell_type": "code",
   "execution_count": 29,
   "metadata": {},
   "outputs": [
    {
     "data": {
      "text/plain": [
       "[37.076048493787276,\n",
       " 37.10066659011123,\n",
       " 37.088958694775506,\n",
       " 37.088971449476695,\n",
       " 37.08890338526]"
      ]
     },
     "execution_count": 29,
     "metadata": {},
     "output_type": "execute_result"
    }
   ],
   "source": [
    "train_losses"
   ]
  },
  {
   "cell_type": "code",
   "execution_count": 30,
   "metadata": {},
   "outputs": [
    {
     "data": {
      "text/plain": [
       "[37.090847304752025,\n",
       " 37.090847304752025,\n",
       " 37.090847304752025,\n",
       " 37.090847304752025,\n",
       " 37.090847304752025]"
      ]
     },
     "execution_count": 30,
     "metadata": {},
     "output_type": "execute_result"
    }
   ],
   "source": [
    "valid_losses"
   ]
  },
  {
   "cell_type": "code",
   "execution_count": null,
   "metadata": {},
   "outputs": [],
   "source": [
    "optimizer = torch.optim.Adam(model.parameters(), lr=0.01)"
   ]
  },
  {
   "cell_type": "code",
   "execution_count": 47,
   "metadata": {},
   "outputs": [
    {
     "name": "stderr",
     "output_type": "stream",
     "text": [
      "/opt/conda/lib/python3.7/site-packages/ipykernel_launcher.py:22: TqdmDeprecationWarning: This function will be removed in tqdm==5.0.0\n",
      "Please use `tqdm.notebook.tqdm` instead of `tqdm.tqdm_notebook`\n"
     ]
    },
    {
     "data": {
      "application/vnd.jupyter.widget-view+json": {
       "model_id": "aa13c6ded0f34c7ab7fb58c7b6a614a5",
       "version_major": 2,
       "version_minor": 0
      },
      "text/plain": [
       "HBox(children=(FloatProgress(value=0.0, max=3174.0), HTML(value='')))"
      ]
     },
     "metadata": {},
     "output_type": "display_data"
    },
    {
     "name": "stderr",
     "output_type": "stream",
     "text": [
      "/opt/conda/lib/python3.7/site-packages/ipykernel_launcher.py:73: UserWarning: Implicit dimension choice for softmax has been deprecated. Change the call to include dim=X as an argument.\n"
     ]
    },
    {
     "name": "stdout",
     "output_type": "stream",
     "text": [
      "\n"
     ]
    },
    {
     "name": "stderr",
     "output_type": "stream",
     "text": [
      "/opt/conda/lib/python3.7/site-packages/ipykernel_launcher.py:45: TqdmDeprecationWarning: This function will be removed in tqdm==5.0.0\n",
      "Please use `tqdm.notebook.tqdm` instead of `tqdm.tqdm_notebook`\n"
     ]
    },
    {
     "data": {
      "application/vnd.jupyter.widget-view+json": {
       "model_id": "92ec45c27c344fdcbcd7aaa0839d124c",
       "version_major": 2,
       "version_minor": 0
      },
      "text/plain": [
       "HBox(children=(FloatProgress(value=0.0, max=1058.0), HTML(value='')))"
      ]
     },
     "metadata": {},
     "output_type": "display_data"
    },
    {
     "name": "stdout",
     "output_type": "stream",
     "text": [
      "\n",
      "Epoch: 0. Training loss: 37.088971. Validation loss: 37.090847\n",
      "Training Accuracy: 22.285129. Validation Accuracy: 22.147448\n",
      "Validation loss decreased (inf --> 37.090847). Saving model...\n"
     ]
    },
    {
     "data": {
      "application/vnd.jupyter.widget-view+json": {
       "model_id": "3222e498408c4eff8a1791a83509591d",
       "version_major": 2,
       "version_minor": 0
      },
      "text/plain": [
       "HBox(children=(FloatProgress(value=0.0, max=3174.0), HTML(value='')))"
      ]
     },
     "metadata": {},
     "output_type": "display_data"
    },
    {
     "name": "stdout",
     "output_type": "stream",
     "text": [
      "\n"
     ]
    },
    {
     "data": {
      "application/vnd.jupyter.widget-view+json": {
       "model_id": "dc39604deb98484daba3f239fafa1f1a",
       "version_major": 2,
       "version_minor": 0
      },
      "text/plain": [
       "HBox(children=(FloatProgress(value=0.0, max=1058.0), HTML(value='')))"
      ]
     },
     "metadata": {},
     "output_type": "display_data"
    },
    {
     "name": "stdout",
     "output_type": "stream",
     "text": [
      "\n",
      "Epoch: 1. Training loss: 37.088971. Validation loss: 37.090847\n",
      "Training Accuracy: 22.285129. Validation Accuracy: 22.147448\n"
     ]
    },
    {
     "data": {
      "application/vnd.jupyter.widget-view+json": {
       "model_id": "f5ce3e78525b47d585eb6e2a4bab8980",
       "version_major": 2,
       "version_minor": 0
      },
      "text/plain": [
       "HBox(children=(FloatProgress(value=0.0, max=3174.0), HTML(value='')))"
      ]
     },
     "metadata": {},
     "output_type": "display_data"
    },
    {
     "name": "stdout",
     "output_type": "stream",
     "text": [
      "\n"
     ]
    },
    {
     "data": {
      "application/vnd.jupyter.widget-view+json": {
       "model_id": "ed0b2e3c9fe44185b71d894310150981",
       "version_major": 2,
       "version_minor": 0
      },
      "text/plain": [
       "HBox(children=(FloatProgress(value=0.0, max=1058.0), HTML(value='')))"
      ]
     },
     "metadata": {},
     "output_type": "display_data"
    },
    {
     "name": "stdout",
     "output_type": "stream",
     "text": [
      "\n",
      "Epoch: 2. Training loss: 37.088971. Validation loss: 37.090847\n",
      "Training Accuracy: 22.285129. Validation Accuracy: 22.147448\n"
     ]
    },
    {
     "data": {
      "application/vnd.jupyter.widget-view+json": {
       "model_id": "ae1c7c99f5ce406aadcea582f36c34d9",
       "version_major": 2,
       "version_minor": 0
      },
      "text/plain": [
       "HBox(children=(FloatProgress(value=0.0, max=3174.0), HTML(value='')))"
      ]
     },
     "metadata": {},
     "output_type": "display_data"
    },
    {
     "name": "stdout",
     "output_type": "stream",
     "text": [
      "\n"
     ]
    },
    {
     "data": {
      "application/vnd.jupyter.widget-view+json": {
       "model_id": "f0cfada71042446f969f3f3c165fbb56",
       "version_major": 2,
       "version_minor": 0
      },
      "text/plain": [
       "HBox(children=(FloatProgress(value=0.0, max=1058.0), HTML(value='')))"
      ]
     },
     "metadata": {},
     "output_type": "display_data"
    },
    {
     "name": "stdout",
     "output_type": "stream",
     "text": [
      "\n",
      "Epoch: 3. Training loss: 37.088971. Validation loss: 37.090847\n",
      "Training Accuracy: 22.285129. Validation Accuracy: 22.147448\n"
     ]
    },
    {
     "data": {
      "application/vnd.jupyter.widget-view+json": {
       "model_id": "dca70e1b07ed49dd969e386d53713bbc",
       "version_major": 2,
       "version_minor": 0
      },
      "text/plain": [
       "HBox(children=(FloatProgress(value=0.0, max=3174.0), HTML(value='')))"
      ]
     },
     "metadata": {},
     "output_type": "display_data"
    },
    {
     "name": "stdout",
     "output_type": "stream",
     "text": [
      "\n"
     ]
    },
    {
     "data": {
      "application/vnd.jupyter.widget-view+json": {
       "model_id": "130e95573dd8493993761837cac9d012",
       "version_major": 2,
       "version_minor": 0
      },
      "text/plain": [
       "HBox(children=(FloatProgress(value=0.0, max=1058.0), HTML(value='')))"
      ]
     },
     "metadata": {},
     "output_type": "display_data"
    },
    {
     "name": "stdout",
     "output_type": "stream",
     "text": [
      "\n",
      "Epoch: 4. Training loss: 37.088971. Validation loss: 37.090847\n",
      "Training Accuracy: 22.285129. Validation Accuracy: 22.147448\n"
     ]
    },
    {
     "data": {
      "application/vnd.jupyter.widget-view+json": {
       "model_id": "316281a960014f65a7f88f167e2a43e2",
       "version_major": 2,
       "version_minor": 0
      },
      "text/plain": [
       "HBox(children=(FloatProgress(value=0.0, max=3174.0), HTML(value='')))"
      ]
     },
     "metadata": {},
     "output_type": "display_data"
    },
    {
     "name": "stdout",
     "output_type": "stream",
     "text": [
      "\n"
     ]
    },
    {
     "data": {
      "application/vnd.jupyter.widget-view+json": {
       "model_id": "6363e1b080f340f58b19d4e8a9adfc00",
       "version_major": 2,
       "version_minor": 0
      },
      "text/plain": [
       "HBox(children=(FloatProgress(value=0.0, max=1058.0), HTML(value='')))"
      ]
     },
     "metadata": {},
     "output_type": "display_data"
    },
    {
     "name": "stdout",
     "output_type": "stream",
     "text": [
      "\n",
      "Epoch: 5. Training loss: 37.088971. Validation loss: 37.090847\n",
      "Training Accuracy: 22.285129. Validation Accuracy: 22.147448\n"
     ]
    },
    {
     "data": {
      "application/vnd.jupyter.widget-view+json": {
       "model_id": "09b7a28665e64e42986637c66453efd5",
       "version_major": 2,
       "version_minor": 0
      },
      "text/plain": [
       "HBox(children=(FloatProgress(value=0.0, max=3174.0), HTML(value='')))"
      ]
     },
     "metadata": {},
     "output_type": "display_data"
    },
    {
     "name": "stdout",
     "output_type": "stream",
     "text": [
      "\n"
     ]
    },
    {
     "data": {
      "application/vnd.jupyter.widget-view+json": {
       "model_id": "99c8f880076541159c14d8e68c3af920",
       "version_major": 2,
       "version_minor": 0
      },
      "text/plain": [
       "HBox(children=(FloatProgress(value=0.0, max=1058.0), HTML(value='')))"
      ]
     },
     "metadata": {},
     "output_type": "display_data"
    },
    {
     "name": "stdout",
     "output_type": "stream",
     "text": [
      "\n",
      "Epoch: 6. Training loss: 37.088971. Validation loss: 37.090847\n",
      "Training Accuracy: 22.285129. Validation Accuracy: 22.147448\n"
     ]
    },
    {
     "data": {
      "application/vnd.jupyter.widget-view+json": {
       "model_id": "b04fde003e8a4f938a74e67e3a98f46b",
       "version_major": 2,
       "version_minor": 0
      },
      "text/plain": [
       "HBox(children=(FloatProgress(value=0.0, max=3174.0), HTML(value='')))"
      ]
     },
     "metadata": {},
     "output_type": "display_data"
    },
    {
     "name": "stdout",
     "output_type": "stream",
     "text": [
      "\n"
     ]
    },
    {
     "data": {
      "application/vnd.jupyter.widget-view+json": {
       "model_id": "d3b431f466fb4acba684d3bd9ba3b488",
       "version_major": 2,
       "version_minor": 0
      },
      "text/plain": [
       "HBox(children=(FloatProgress(value=0.0, max=1058.0), HTML(value='')))"
      ]
     },
     "metadata": {},
     "output_type": "display_data"
    },
    {
     "name": "stdout",
     "output_type": "stream",
     "text": [
      "\n",
      "Epoch: 7. Training loss: 37.088971. Validation loss: 37.090847\n",
      "Training Accuracy: 22.285129. Validation Accuracy: 22.147448\n"
     ]
    },
    {
     "data": {
      "application/vnd.jupyter.widget-view+json": {
       "model_id": "a07a231d36914920ae16a8834a1c15fd",
       "version_major": 2,
       "version_minor": 0
      },
      "text/plain": [
       "HBox(children=(FloatProgress(value=0.0, max=3174.0), HTML(value='')))"
      ]
     },
     "metadata": {},
     "output_type": "display_data"
    },
    {
     "name": "stdout",
     "output_type": "stream",
     "text": [
      "\n"
     ]
    },
    {
     "data": {
      "application/vnd.jupyter.widget-view+json": {
       "model_id": "7905388c8881436ab8658bc925f18139",
       "version_major": 2,
       "version_minor": 0
      },
      "text/plain": [
       "HBox(children=(FloatProgress(value=0.0, max=1058.0), HTML(value='')))"
      ]
     },
     "metadata": {},
     "output_type": "display_data"
    },
    {
     "name": "stdout",
     "output_type": "stream",
     "text": [
      "\n",
      "Epoch: 8. Training loss: 37.088971. Validation loss: 37.090847\n",
      "Training Accuracy: 22.285129. Validation Accuracy: 22.147448\n"
     ]
    },
    {
     "data": {
      "application/vnd.jupyter.widget-view+json": {
       "model_id": "a66019cb32264e5381d0ff324d12d129",
       "version_major": 2,
       "version_minor": 0
      },
      "text/plain": [
       "HBox(children=(FloatProgress(value=0.0, max=3174.0), HTML(value='')))"
      ]
     },
     "metadata": {},
     "output_type": "display_data"
    },
    {
     "name": "stdout",
     "output_type": "stream",
     "text": [
      "\n"
     ]
    },
    {
     "data": {
      "application/vnd.jupyter.widget-view+json": {
       "model_id": "3ff31b9b2e30470cadcaa62613d37fd4",
       "version_major": 2,
       "version_minor": 0
      },
      "text/plain": [
       "HBox(children=(FloatProgress(value=0.0, max=1058.0), HTML(value='')))"
      ]
     },
     "metadata": {},
     "output_type": "display_data"
    },
    {
     "name": "stdout",
     "output_type": "stream",
     "text": [
      "\n",
      "Epoch: 9. Training loss: 37.088971. Validation loss: 37.090847\n",
      "Training Accuracy: 22.285129. Validation Accuracy: 22.147448\n"
     ]
    },
    {
     "data": {
      "application/vnd.jupyter.widget-view+json": {
       "model_id": "65a7c14c02f74e4db93dd26e3b450b7d",
       "version_major": 2,
       "version_minor": 0
      },
      "text/plain": [
       "HBox(children=(FloatProgress(value=0.0, max=3174.0), HTML(value='')))"
      ]
     },
     "metadata": {},
     "output_type": "display_data"
    },
    {
     "name": "stdout",
     "output_type": "stream",
     "text": [
      "\n"
     ]
    },
    {
     "data": {
      "application/vnd.jupyter.widget-view+json": {
       "model_id": "1aaf25889e40461aa95948787b3ef675",
       "version_major": 2,
       "version_minor": 0
      },
      "text/plain": [
       "HBox(children=(FloatProgress(value=0.0, max=1058.0), HTML(value='')))"
      ]
     },
     "metadata": {},
     "output_type": "display_data"
    },
    {
     "name": "stdout",
     "output_type": "stream",
     "text": [
      "\n",
      "Epoch: 10. Training loss: 37.088971. Validation loss: 37.090847\n",
      "Training Accuracy: 22.285129. Validation Accuracy: 22.147448\n"
     ]
    },
    {
     "data": {
      "application/vnd.jupyter.widget-view+json": {
       "model_id": "915ea27af1d14588a1fa7bd1d0345b94",
       "version_major": 2,
       "version_minor": 0
      },
      "text/plain": [
       "HBox(children=(FloatProgress(value=0.0, max=3174.0), HTML(value='')))"
      ]
     },
     "metadata": {},
     "output_type": "display_data"
    },
    {
     "name": "stdout",
     "output_type": "stream",
     "text": [
      "\n"
     ]
    },
    {
     "data": {
      "application/vnd.jupyter.widget-view+json": {
       "model_id": "30592f6cd53946b98190d743bd81b6f1",
       "version_major": 2,
       "version_minor": 0
      },
      "text/plain": [
       "HBox(children=(FloatProgress(value=0.0, max=1058.0), HTML(value='')))"
      ]
     },
     "metadata": {},
     "output_type": "display_data"
    },
    {
     "name": "stdout",
     "output_type": "stream",
     "text": [
      "\n",
      "Epoch: 11. Training loss: 37.088971. Validation loss: 37.090847\n",
      "Training Accuracy: 22.285129. Validation Accuracy: 22.147448\n"
     ]
    },
    {
     "data": {
      "application/vnd.jupyter.widget-view+json": {
       "model_id": "c3d54a604e3f4388ba00113ab315a10c",
       "version_major": 2,
       "version_minor": 0
      },
      "text/plain": [
       "HBox(children=(FloatProgress(value=0.0, max=3174.0), HTML(value='')))"
      ]
     },
     "metadata": {},
     "output_type": "display_data"
    },
    {
     "name": "stdout",
     "output_type": "stream",
     "text": [
      "\n"
     ]
    },
    {
     "data": {
      "application/vnd.jupyter.widget-view+json": {
       "model_id": "2c3e67a6ab8e4b72b2e326c2c88a4563",
       "version_major": 2,
       "version_minor": 0
      },
      "text/plain": [
       "HBox(children=(FloatProgress(value=0.0, max=1058.0), HTML(value='')))"
      ]
     },
     "metadata": {},
     "output_type": "display_data"
    },
    {
     "name": "stdout",
     "output_type": "stream",
     "text": [
      "\n",
      "Epoch: 12. Training loss: 37.088971. Validation loss: 37.090847\n",
      "Training Accuracy: 22.285129. Validation Accuracy: 22.147448\n"
     ]
    },
    {
     "data": {
      "application/vnd.jupyter.widget-view+json": {
       "model_id": "2ac122343803402fb83768769b117cb3",
       "version_major": 2,
       "version_minor": 0
      },
      "text/plain": [
       "HBox(children=(FloatProgress(value=0.0, max=3174.0), HTML(value='')))"
      ]
     },
     "metadata": {},
     "output_type": "display_data"
    },
    {
     "name": "stdout",
     "output_type": "stream",
     "text": [
      "\n"
     ]
    },
    {
     "data": {
      "application/vnd.jupyter.widget-view+json": {
       "model_id": "ee744afc47234d299cd5c26d27142cf0",
       "version_major": 2,
       "version_minor": 0
      },
      "text/plain": [
       "HBox(children=(FloatProgress(value=0.0, max=1058.0), HTML(value='')))"
      ]
     },
     "metadata": {},
     "output_type": "display_data"
    },
    {
     "name": "stdout",
     "output_type": "stream",
     "text": [
      "\n",
      "Epoch: 13. Training loss: 37.088971. Validation loss: 37.090847\n",
      "Training Accuracy: 22.285129. Validation Accuracy: 22.147448\n"
     ]
    },
    {
     "data": {
      "application/vnd.jupyter.widget-view+json": {
       "model_id": "f62902414f7046a1a3059e9fbc526a13",
       "version_major": 2,
       "version_minor": 0
      },
      "text/plain": [
       "HBox(children=(FloatProgress(value=0.0, max=3174.0), HTML(value='')))"
      ]
     },
     "metadata": {},
     "output_type": "display_data"
    },
    {
     "name": "stdout",
     "output_type": "stream",
     "text": [
      "\n"
     ]
    },
    {
     "data": {
      "application/vnd.jupyter.widget-view+json": {
       "model_id": "7ae91e3a0236451389b11fb04cf68c9a",
       "version_major": 2,
       "version_minor": 0
      },
      "text/plain": [
       "HBox(children=(FloatProgress(value=0.0, max=1058.0), HTML(value='')))"
      ]
     },
     "metadata": {},
     "output_type": "display_data"
    },
    {
     "name": "stdout",
     "output_type": "stream",
     "text": [
      "\n",
      "Epoch: 14. Training loss: 37.088971. Validation loss: 37.090847\n",
      "Training Accuracy: 22.285129. Validation Accuracy: 22.147448\n"
     ]
    },
    {
     "data": {
      "application/vnd.jupyter.widget-view+json": {
       "model_id": "64f775b3438e4b7c9922d8b1cbbbbc02",
       "version_major": 2,
       "version_minor": 0
      },
      "text/plain": [
       "HBox(children=(FloatProgress(value=0.0, max=3174.0), HTML(value='')))"
      ]
     },
     "metadata": {},
     "output_type": "display_data"
    },
    {
     "name": "stdout",
     "output_type": "stream",
     "text": [
      "\n"
     ]
    },
    {
     "data": {
      "application/vnd.jupyter.widget-view+json": {
       "model_id": "3dd2fc594d894a67840a5c35a98fad80",
       "version_major": 2,
       "version_minor": 0
      },
      "text/plain": [
       "HBox(children=(FloatProgress(value=0.0, max=1058.0), HTML(value='')))"
      ]
     },
     "metadata": {},
     "output_type": "display_data"
    },
    {
     "name": "stdout",
     "output_type": "stream",
     "text": [
      "\n",
      "Epoch: 15. Training loss: 37.088971. Validation loss: 37.090847\n",
      "Training Accuracy: 22.285129. Validation Accuracy: 22.147448\n"
     ]
    },
    {
     "data": {
      "application/vnd.jupyter.widget-view+json": {
       "model_id": "6366389017cc4419b2fb35ade1986e06",
       "version_major": 2,
       "version_minor": 0
      },
      "text/plain": [
       "HBox(children=(FloatProgress(value=0.0, max=3174.0), HTML(value='')))"
      ]
     },
     "metadata": {},
     "output_type": "display_data"
    },
    {
     "name": "stdout",
     "output_type": "stream",
     "text": [
      "\n"
     ]
    },
    {
     "data": {
      "application/vnd.jupyter.widget-view+json": {
       "model_id": "8bd9dd5069c04acfad45bcf11e672423",
       "version_major": 2,
       "version_minor": 0
      },
      "text/plain": [
       "HBox(children=(FloatProgress(value=0.0, max=1058.0), HTML(value='')))"
      ]
     },
     "metadata": {},
     "output_type": "display_data"
    },
    {
     "name": "stdout",
     "output_type": "stream",
     "text": [
      "\n",
      "Epoch: 16. Training loss: 37.088971. Validation loss: 37.090847\n",
      "Training Accuracy: 22.285129. Validation Accuracy: 22.147448\n"
     ]
    },
    {
     "data": {
      "application/vnd.jupyter.widget-view+json": {
       "model_id": "f26b88fef11843f095ff33e1f447fcd3",
       "version_major": 2,
       "version_minor": 0
      },
      "text/plain": [
       "HBox(children=(FloatProgress(value=0.0, max=3174.0), HTML(value='')))"
      ]
     },
     "metadata": {},
     "output_type": "display_data"
    },
    {
     "name": "stdout",
     "output_type": "stream",
     "text": [
      "\n"
     ]
    },
    {
     "data": {
      "application/vnd.jupyter.widget-view+json": {
       "model_id": "b8fcc5e40e5e45c98bd89d2ddbe06719",
       "version_major": 2,
       "version_minor": 0
      },
      "text/plain": [
       "HBox(children=(FloatProgress(value=0.0, max=1058.0), HTML(value='')))"
      ]
     },
     "metadata": {},
     "output_type": "display_data"
    },
    {
     "name": "stdout",
     "output_type": "stream",
     "text": [
      "\n",
      "Epoch: 17. Training loss: 37.088971. Validation loss: 37.090847\n",
      "Training Accuracy: 22.285129. Validation Accuracy: 22.147448\n"
     ]
    },
    {
     "data": {
      "application/vnd.jupyter.widget-view+json": {
       "model_id": "e561412485c6480994519e850bcda855",
       "version_major": 2,
       "version_minor": 0
      },
      "text/plain": [
       "HBox(children=(FloatProgress(value=0.0, max=3174.0), HTML(value='')))"
      ]
     },
     "metadata": {},
     "output_type": "display_data"
    },
    {
     "name": "stdout",
     "output_type": "stream",
     "text": [
      "\n"
     ]
    },
    {
     "data": {
      "application/vnd.jupyter.widget-view+json": {
       "model_id": "6380f6a825694b00ae3af4fa208cc6f5",
       "version_major": 2,
       "version_minor": 0
      },
      "text/plain": [
       "HBox(children=(FloatProgress(value=0.0, max=1058.0), HTML(value='')))"
      ]
     },
     "metadata": {},
     "output_type": "display_data"
    },
    {
     "name": "stdout",
     "output_type": "stream",
     "text": [
      "\n",
      "Epoch: 18. Training loss: 37.088971. Validation loss: 37.090847\n",
      "Training Accuracy: 22.285129. Validation Accuracy: 22.147448\n"
     ]
    },
    {
     "data": {
      "application/vnd.jupyter.widget-view+json": {
       "model_id": "3e60a960b3984b8298c62a690081abbf",
       "version_major": 2,
       "version_minor": 0
      },
      "text/plain": [
       "HBox(children=(FloatProgress(value=0.0, max=3174.0), HTML(value='')))"
      ]
     },
     "metadata": {},
     "output_type": "display_data"
    },
    {
     "name": "stdout",
     "output_type": "stream",
     "text": [
      "\n"
     ]
    },
    {
     "data": {
      "application/vnd.jupyter.widget-view+json": {
       "model_id": "ceb2ba16067e41969a21dd03764b4314",
       "version_major": 2,
       "version_minor": 0
      },
      "text/plain": [
       "HBox(children=(FloatProgress(value=0.0, max=1058.0), HTML(value='')))"
      ]
     },
     "metadata": {},
     "output_type": "display_data"
    },
    {
     "name": "stdout",
     "output_type": "stream",
     "text": [
      "\n",
      "Epoch: 19. Training loss: 37.088971. Validation loss: 37.090847\n",
      "Training Accuracy: 22.285129. Validation Accuracy: 22.147448\n"
     ]
    }
   ],
   "source": [
    "train_losses, valid_losses = train_network(model=model, \n",
    "                                           train_loader=train_loader, \n",
    "                                           valid_loader=valid_loader, \n",
    "                                           loss_func=criterion, \n",
    "                                           optimizer=optimizer,\n",
    "                                           n_epochs=20, \n",
    "                                           saved_model='../models/embed_3layers3.pt')"
   ]
  },
  {
   "cell_type": "code",
   "execution_count": 48,
   "metadata": {},
   "outputs": [
    {
     "data": {
      "text/plain": [
       "[37.08897145257539,\n",
       " 37.08897144565699,\n",
       " 37.088971451848316,\n",
       " 37.08897145833736,\n",
       " 37.08897145653485,\n",
       " 37.08897143048752,\n",
       " 37.088971442420565,\n",
       " 37.088971460239115,\n",
       " 37.088971455319665,\n",
       " 37.088971462784905,\n",
       " 37.088971445598254,\n",
       " 37.088971451360216,\n",
       " 37.08897147399492,\n",
       " 37.088971460648224,\n",
       " 37.088971445871664,\n",
       " 37.08897143452191,\n",
       " 37.088971458825455,\n",
       " 37.08897144973188,\n",
       " 37.088971462491244,\n",
       " 37.088971465529184]"
      ]
     },
     "execution_count": 48,
     "metadata": {},
     "output_type": "execute_result"
    }
   ],
   "source": [
    "train_losses"
   ]
  },
  {
   "cell_type": "code",
   "execution_count": 49,
   "metadata": {},
   "outputs": [
    {
     "data": {
      "text/plain": [
       "[37.090847304752025,\n",
       " 37.090847304752025,\n",
       " 37.090847304752025,\n",
       " 37.090847304752025,\n",
       " 37.090847304752025,\n",
       " 37.090847304752025,\n",
       " 37.090847304752025,\n",
       " 37.090847304752025,\n",
       " 37.090847304752025,\n",
       " 37.090847304752025,\n",
       " 37.090847304752025,\n",
       " 37.090847304752025,\n",
       " 37.090847304752025,\n",
       " 37.090847304752025,\n",
       " 37.090847304752025,\n",
       " 37.090847304752025,\n",
       " 37.090847304752025,\n",
       " 37.090847304752025,\n",
       " 37.090847304752025,\n",
       " 37.090847304752025]"
      ]
     },
     "execution_count": 49,
     "metadata": {},
     "output_type": "execute_result"
    }
   ],
   "source": [
    "valid_losses"
   ]
  },
  {
   "cell_type": "markdown",
   "metadata": {},
   "source": [
    "#### train_loader.sampler.indices doesn't work\n",
    "\n",
    "Therefore need to divide by the batch size manually, or find alternative"
   ]
  },
  {
   "cell_type": "code",
   "execution_count": 31,
   "metadata": {},
   "outputs": [
    {
     "name": "stdout",
     "output_type": "stream",
     "text": [
      "Training loss: 37.089%\n",
      "Validation loss: 37.091%\n"
     ]
    }
   ],
   "source": [
    "print('Training loss: {:.3f}%'.format(np.mean(train_losses)))\n",
    "print('Validation loss: {:.3f}%'.format(np.mean(valid_losses)))"
   ]
  },
  {
   "cell_type": "markdown",
   "metadata": {},
   "source": [
    "# Predict with test set"
   ]
  },
  {
   "cell_type": "code",
   "execution_count": 32,
   "metadata": {},
   "outputs": [],
   "source": [
    "def predict(data_loader, model):\n",
    "    model.eval()\n",
    "    device = torch.device('cuda:0' if torch.cuda.is_available() else 'cpu')\n",
    "    \n",
    "    model.to(device)\n",
    "    \n",
    "    with torch.no_grad():\n",
    "        predictions = None\n",
    "        \n",
    "        for i, batch in enumerate(tqdm(data_loader)):   \n",
    "            \n",
    "            output = model(batch['data'][0].to(device, \n",
    "                                               dtype=torch.long), \n",
    "                           batch['data'][1].to(device, \n",
    "                                               dtype=torch.float)).cpu().numpy()\n",
    "            \n",
    "            if i == 0:\n",
    "                predictions = output\n",
    "                \n",
    "            else: \n",
    "                \n",
    "                predictions = np.vstack((predictions, output))\n",
    "                \n",
    "    return predictions"
   ]
  },
  {
   "cell_type": "code",
   "execution_count": 33,
   "metadata": {},
   "outputs": [
    {
     "name": "stderr",
     "output_type": "stream",
     "text": [
      "/opt/conda/lib/python3.7/site-packages/ipykernel_launcher.py:10: TqdmDeprecationWarning: This function will be removed in tqdm==5.0.0\n",
      "Please use `tqdm.notebook.tqdm` instead of `tqdm.tqdm_notebook`\n",
      "  # Remove the CWD from sys.path while we load stuff.\n"
     ]
    },
    {
     "data": {
      "application/vnd.jupyter.widget-view+json": {
       "model_id": "23e593c555f74209a556bc67cea56299",
       "version_major": 2,
       "version_minor": 0
      },
      "text/plain": [
       "HBox(children=(FloatProgress(value=0.0, max=1058.0), HTML(value='')))"
      ]
     },
     "metadata": {},
     "output_type": "display_data"
    },
    {
     "name": "stderr",
     "output_type": "stream",
     "text": [
      "/opt/conda/lib/python3.7/site-packages/ipykernel_launcher.py:73: UserWarning: Implicit dimension choice for softmax has been deprecated. Change the call to include dim=X as an argument.\n"
     ]
    },
    {
     "name": "stdout",
     "output_type": "stream",
     "text": [
      "\n"
     ]
    }
   ],
   "source": [
    "model.load_state_dict(torch.load('../models/embed_3layers.pt'))\n",
    "\n",
    "test_loader = DataLoader(test_dataset, \n",
    "                         batch_size=BATCH_SIZE)\n",
    "\n",
    "nn_predictions = predict(test_loader, model)"
   ]
  },
  {
   "cell_type": "code",
   "execution_count": 34,
   "metadata": {
    "scrolled": true
   },
   "outputs": [
    {
     "data": {
      "text/plain": [
       "array([12, 12, 12, ..., 12, 12, 12])"
      ]
     },
     "execution_count": 34,
     "metadata": {},
     "output_type": "execute_result"
    }
   ],
   "source": [
    "np.set_printoptions(threshold = 100)\n",
    "nn_predictions.argmax(1)"
   ]
  },
  {
   "cell_type": "code",
   "execution_count": 35,
   "metadata": {},
   "outputs": [],
   "source": [
    "test_acc = (nn_predictions.argmax(1) == y_test).sum().item()"
   ]
  },
  {
   "cell_type": "code",
   "execution_count": 36,
   "metadata": {},
   "outputs": [
    {
     "data": {
      "text/plain": [
       "0.07380247069204589"
      ]
     },
     "execution_count": 36,
     "metadata": {},
     "output_type": "execute_result"
    }
   ],
   "source": [
    "test_acc/317320"
   ]
  },
  {
   "cell_type": "code",
   "execution_count": 37,
   "metadata": {
    "scrolled": true
   },
   "outputs": [
    {
     "name": "stdout",
     "output_type": "stream",
     "text": [
      "[     8      9     53 ... 317281 317303 317313]\n"
     ]
    }
   ],
   "source": [
    "twelves = np.where(y_test == 12)\n",
    "print(sum(list(twelves)))"
   ]
  },
  {
   "cell_type": "code",
   "execution_count": 42,
   "metadata": {},
   "outputs": [],
   "source": [
    "from sklearn.metrics import roc_auc_score, classification_report"
   ]
  },
  {
   "cell_type": "code",
   "execution_count": null,
   "metadata": {},
   "outputs": [],
   "source": [
    "# compute other metrics\n",
    "roc_auc_score(y_test,nn_predictions, multi_class='ovr', average='macro')"
   ]
  },
  {
   "cell_type": "code",
   "execution_count": 38,
   "metadata": {},
   "outputs": [
    {
     "name": "stdout",
     "output_type": "stream",
     "text": [
      "[ 83 102  11 ...  43   9  14]\n",
      "[12 12 12 ... 12 12 12]\n"
     ]
    }
   ],
   "source": [
    "print(y_test)\n",
    "print(nn_predictions.argmax(1))"
   ]
  },
  {
   "cell_type": "code",
   "execution_count": 39,
   "metadata": {},
   "outputs": [],
   "source": [
    "def convert_cr_to_dataframe(report_dict:dict) -> pd.DataFrame:\n",
    "    \"\"\"\n",
    "    Converts the dictionary format of the Classification Report (CR) to a\n",
    "    dataframe for easy of sorting\n",
    "    :param report_dict: The dictionary returned by \n",
    "    sklearn.metrics.classification_report.\n",
    "    :return: Returns a dataframe of the same information.\n",
    "    \"\"\"\n",
    "    beer_style = list(report_dict.keys())\n",
    "    beer_style.remove('accuracy')\n",
    "    beer_style.remove('macro avg')\n",
    "    beer_style.remove('weighted avg')\n",
    "    precision = []\n",
    "    recall = []\n",
    "    f1 = []\n",
    "    support = []\n",
    "    for key, value in report_dict.items():\n",
    "        if key not in ['accuracy', 'macro avg', 'weighted avg']:\n",
    "            precision.append(value['precision'])\n",
    "            recall.append(value['recall'])\n",
    "            f1.append(value['f1-score'])\n",
    "            support.append(value['support'])\n",
    "    result = pd.DataFrame({'beer_style': beer_style,\n",
    "                           'precision': precision,\n",
    "                           'recall': recall,\n",
    "                           'f1': f1,\n",
    "                           'support': support})\n",
    "    return result"
   ]
  },
  {
   "cell_type": "code",
   "execution_count": 40,
   "metadata": {},
   "outputs": [],
   "source": [
    "from joblib import load\n",
    "\n",
    "style_encoder = load('../models/style_encoder.joblib')"
   ]
  },
  {
   "cell_type": "code",
   "execution_count": 44,
   "metadata": {},
   "outputs": [
    {
     "name": "stderr",
     "output_type": "stream",
     "text": [
      "/opt/conda/lib/python3.7/site-packages/sklearn/metrics/_classification.py:1272: UndefinedMetricWarning: Precision and F-score are ill-defined and being set to 0.0 in labels with no predicted samples. Use `zero_division` parameter to control this behavior.\n",
      "  _warn_prf(average, modifier, msg_start, len(result))\n"
     ]
    },
    {
     "name": "stdout",
     "output_type": "stream",
     "text": [
      "                              beer_style  precision  recall       f1  support\n",
      "0                                Altbier   0.000000     0.0  0.00000     1574\n",
      "1                 American Adjunct Lager   0.000000     0.0  0.00000     6047\n",
      "2               American Amber / Red Ale   0.000000     0.0  0.00000     9298\n",
      "3             American Amber / Red Lager   0.000000     0.0  0.00000     1851\n",
      "4                    American Barleywine   0.000000     0.0  0.00000     5439\n",
      "5                     American Black Ale   0.000000     0.0  0.00000     2336\n",
      "6                    American Blonde Ale   0.000000     0.0  0.00000     2579\n",
      "7                     American Brown Ale   0.000000     0.0  0.00000     5026\n",
      "8                American Dark Wheat Ale   0.000000     0.0  0.00000      284\n",
      "9         American Double / Imperial IPA   0.000000     0.0  0.00000    17309\n",
      "10    American Double / Imperial Pilsner   0.000000     0.0  0.00000     1150\n",
      "11      American Double / Imperial Stout   0.000000     0.0  0.00000    10117\n",
      "12                          American IPA   0.073802     1.0  0.13746    23419\n",
      "13                  American Malt Liquor   0.000000     0.0  0.00000      763\n",
      "14               American Pale Ale (APA)   0.000000     0.0  0.00000    12617\n",
      "15                   American Pale Lager   0.000000     0.0  0.00000     1777\n",
      "16               American Pale Wheat Ale   0.000000     0.0  0.00000     4979\n",
      "17                       American Porter   0.000000     0.0  0.00000    10009\n",
      "18                        American Stout   0.000000     0.0  0.00000     4930\n",
      "19                   American Strong Ale   0.000000     0.0  0.00000     6375\n",
      "20                     American Wild Ale   0.000000     0.0  0.00000     3495\n",
      "21                         Baltic Porter   0.000000     0.0  0.00000     2362\n",
      "22                      Belgian Dark Ale   0.000000     0.0  0.00000     1277\n",
      "23                           Belgian IPA   0.000000     0.0  0.00000     2419\n",
      "24                      Belgian Pale Ale   0.000000     0.0  0.00000     3932\n",
      "25               Belgian Strong Dark Ale   0.000000     0.0  0.00000     7576\n",
      "26               Belgian Strong Pale Ale   0.000000     0.0  0.00000     6203\n",
      "27                    Berliner Weissbier   0.000000     0.0  0.00000      709\n",
      "28       Bière de Champagne / Bière Brut   0.000000     0.0  0.00000      224\n",
      "29                        Bière de Garde   0.000000     0.0  0.00000     1330\n",
      "30                           Black & Tan   0.000000     0.0  0.00000      487\n",
      "31                                  Bock   0.000000     0.0  0.00000     2315\n",
      "32                               Braggot   0.000000     0.0  0.00000      218\n",
      "33        California Common / Steam Beer   0.000000     0.0  0.00000      807\n",
      "34                            Chile Beer   0.000000     0.0  0.00000      460\n",
      "35                             Cream Ale   0.000000     0.0  0.00000     1017\n",
      "36                        Czech Pilsener   0.000000     0.0  0.00000     2557\n",
      "37                            Doppelbock   0.000000     0.0  0.00000     4391\n",
      "38             Dortmunder / Export Lager   0.000000     0.0  0.00000      971\n",
      "39                                Dubbel   0.000000     0.0  0.00000     4048\n",
      "40                          Dunkelweizen   0.000000     0.0  0.00000     1411\n",
      "41                               Eisbock   0.000000     0.0  0.00000      553\n",
      "42                    English Barleywine   0.000000     0.0  0.00000     2730\n",
      "43                        English Bitter   0.000000     0.0  0.00000     1743\n",
      "44                     English Brown Ale   0.000000     0.0  0.00000     3903\n",
      "45                 English Dark Mild Ale   0.000000     0.0  0.00000      499\n",
      "46          English India Pale Ale (IPA)   0.000000     0.0  0.00000     3206\n",
      "47                      English Pale Ale   0.000000     0.0  0.00000     4680\n",
      "48                 English Pale Mild Ale   0.000000     0.0  0.00000      134\n",
      "49                        English Porter   0.000000     0.0  0.00000     2269\n",
      "50                         English Stout   0.000000     0.0  0.00000      614\n",
      "51                    English Strong Ale   0.000000     0.0  0.00000      983\n",
      "52                       Euro Dark Lager   0.000000     0.0  0.00000      893\n",
      "53                       Euro Pale Lager   0.000000     0.0  0.00000     3688\n",
      "54                     Euro Strong Lager   0.000000     0.0  0.00000      543\n",
      "55   Extra Special / Strong Bitter (ESB)   0.000000     0.0  0.00000     3476\n",
      "56                                  Faro   0.000000     0.0  0.00000      102\n",
      "57                    Flanders Oud Bruin   0.000000     0.0  0.00000      959\n",
      "58                      Flanders Red Ale   0.000000     0.0  0.00000     1307\n",
      "59                Foreign / Export Stout   0.000000     0.0  0.00000     1145\n",
      "60                Fruit / Vegetable Beer   0.000000     0.0  0.00000     6713\n",
      "61                       German Pilsener   0.000000     0.0  0.00000     4333\n",
      "62                                  Gose   0.000000     0.0  0.00000      129\n",
      "63                                Gueuze   0.000000     0.0  0.00000     1195\n",
      "64                              Happoshu   0.000000     0.0  0.00000       50\n",
      "65                            Hefeweizen   0.000000     0.0  0.00000     5572\n",
      "66                  Herbed / Spiced Beer   0.000000     0.0  0.00000     2071\n",
      "67                       Irish Dry Stout   0.000000     0.0  0.00000     2507\n",
      "68                         Irish Red Ale   0.000000     0.0  0.00000     1546\n",
      "69                   Japanese Rice Lager   0.000000     0.0  0.00000      290\n",
      "70            Keller Bier / Zwickel Bier   0.000000     0.0  0.00000      514\n",
      "71                         Kristalweizen   0.000000     0.0  0.00000      459\n",
      "72                                 Kvass   0.000000     0.0  0.00000       70\n",
      "73                                Kölsch   0.000000     0.0  0.00000     1686\n",
      "74                        Lambic - Fruit   0.000000     0.0  0.00000     2122\n",
      "75                    Lambic - Unblended   0.000000     0.0  0.00000      220\n",
      "76                           Light Lager   0.000000     0.0  0.00000     2794\n",
      "77                      Low Alcohol Beer   0.000000     0.0  0.00000      228\n",
      "78                 Maibock / Helles Bock   0.000000     0.0  0.00000     2104\n",
      "79                    Milk / Sweet Stout   0.000000     0.0  0.00000     2638\n",
      "80                   Munich Dunkel Lager   0.000000     0.0  0.00000     1581\n",
      "81                   Munich Helles Lager   0.000000     0.0  0.00000     1599\n",
      "82                  Märzen / Oktoberfest   0.000000     0.0  0.00000     4706\n",
      "83                         Oatmeal Stout   0.000000     0.0  0.00000     3600\n",
      "84                               Old Ale   0.000000     0.0  0.00000     2998\n",
      "85                           Pumpkin Ale   0.000000     0.0  0.00000     3019\n",
      "86                      Quadrupel (Quad)   0.000000     0.0  0.00000     3716\n",
      "87                             Rauchbier   0.000000     0.0  0.00000      804\n",
      "88                            Roggenbier   0.000000     0.0  0.00000      109\n",
      "89                Russian Imperial Stout   0.000000     0.0  0.00000    10734\n",
      "90                              Rye Beer   0.000000     0.0  0.00000     2057\n",
      "91                                 Sahti   0.000000     0.0  0.00000      208\n",
      "92                Saison / Farmhouse Ale   0.000000     0.0  0.00000     6320\n",
      "93                           Schwarzbier   0.000000     0.0  0.00000     1936\n",
      "94                Scotch Ale / Wee Heavy   0.000000     0.0  0.00000     3479\n",
      "95                          Scottish Ale   0.000000     0.0  0.00000     1825\n",
      "96   Scottish Gruit / Ancient Herbed Ale   0.000000     0.0  0.00000      558\n",
      "97                           Smoked Beer   0.000000     0.0  0.00000      595\n",
      "98                                Tripel   0.000000     0.0  0.00000     6063\n",
      "99                          Vienna Lager   0.000000     0.0  0.00000     1825\n",
      "100                           Weizenbock   0.000000     0.0  0.00000     1900\n",
      "101                            Wheatwine   0.000000     0.0  0.00000      769\n",
      "102                        Winter Warmer   0.000000     0.0  0.00000     4140\n",
      "103                              Witbier   0.000000     0.0  0.00000     6023\n"
     ]
    }
   ],
   "source": [
    "pd.options.display.max_rows = 150\n",
    "report_dict = classification_report(style_encoder.inverse_transform(y_test),\n",
    "                                    style_encoder.inverse_transform(nn_predictions.argmax(1)),\n",
    "                                    output_dict=True)\n",
    "report_df = convert_cr_to_dataframe(report_dict)\n",
    "print(report_df)\n",
    "#classification_report(y_test, nn_predictions.argmax(1))"
   ]
  },
  {
   "cell_type": "code",
   "execution_count": 45,
   "metadata": {},
   "outputs": [],
   "source": [
    "report_df.to_csv('../data/processed/class_report_badmodel.csv')"
   ]
  },
  {
   "cell_type": "code",
   "execution_count": 127,
   "metadata": {},
   "outputs": [],
   "source": [
    "#torch.save(model, \"../models/model.pt\")"
   ]
  },
  {
   "cell_type": "code",
   "execution_count": 54,
   "metadata": {},
   "outputs": [
    {
     "data": {
      "image/png": "[encoded data removed]",
      "text/plain": [
       "<Figure size 432x288 with 1 Axes>"
      ]
     },
     "metadata": {
      "needs_background": "light"
     },
     "output_type": "display_data"
    }
   ],
   "source": [
    "import matplotlib.pyplot as plt\n",
    "\n",
    "\n",
    "epochs = range(1,5)\n",
    "plt.plot(train_losses, 'g', label='Training loss')\n",
    "plt.plot(valid_losses, 'b', label='validation loss')\n",
    "plt.title('Training and Validation loss')\n",
    "plt.xlabel('Epochs')\n",
    "plt.ylabel('Loss')\n",
    "plt.legend()\n",
    "plt.show()"
   ]
  },
  {
   "cell_type": "code",
   "execution_count": 48,
   "metadata": {},
   "outputs": [
    {
     "data": {
      "text/plain": [
       "[37.076048493787276,\n",
       " 37.10066659011123,\n",
       " 37.088958694775506,\n",
       " 37.088971449476695,\n",
       " 37.08890338526]"
      ]
     },
     "execution_count": 48,
     "metadata": {},
     "output_type": "execute_result"
    }
   ],
   "source": [
    "train_losses"
   ]
  },
  {
   "cell_type": "code",
   "execution_count": 55,
   "metadata": {},
   "outputs": [],
   "source": [
    "name_encoder = load('../models/name_encoder.joblib')"
   ]
  },
  {
   "cell_type": "code",
   "execution_count": 57,
   "metadata": {},
   "outputs": [
    {
     "ename": "ValueError",
     "evalue": "y contains previously unseen labels: [\"'t Hofbrouwerijke\" '(512) Brewing Company' '10 Barrel Brewing Co.' ...\n 'Ølfabrikken' 'Ørbæk Bryggeri' 'Łódzkie Browary S.A.']",
     "output_type": "error",
     "traceback": [
      "\u001b[0;31m\u001b[0m",
      "\u001b[0;31mValueError\u001b[0mTraceback (most recent call last)",
      "\u001b[0;32m<ipython-input-57-147b3db98719>\u001b[0m in \u001b[0;36m<module>\u001b[0;34m\u001b[0m\n\u001b[0;32m----> 1\u001b[0;31m \u001b[0mle_name_mapping\u001b[0m \u001b[0;34m=\u001b[0m \u001b[0mdict\u001b[0m\u001b[0;34m(\u001b[0m\u001b[0mzip\u001b[0m\u001b[0;34m(\u001b[0m\u001b[0mname_encoder\u001b[0m\u001b[0;34m.\u001b[0m\u001b[0mclasses_\u001b[0m\u001b[0;34m,\u001b[0m \u001b[0mname_encoder\u001b[0m\u001b[0;34m.\u001b[0m\u001b[0minverse_transform\u001b[0m\u001b[0;34m(\u001b[0m\u001b[0mname_encoder\u001b[0m\u001b[0;34m.\u001b[0m\u001b[0mclasses_\u001b[0m\u001b[0;34m)\u001b[0m\u001b[0;34m)\u001b[0m\u001b[0;34m)\u001b[0m\u001b[0;34m\u001b[0m\u001b[0;34m\u001b[0m\u001b[0m\n\u001b[0m\u001b[1;32m      2\u001b[0m \u001b[0mprint\u001b[0m\u001b[0;34m(\u001b[0m\u001b[0mpd\u001b[0m\u001b[0;34m.\u001b[0m\u001b[0mDataFrame\u001b[0m\u001b[0;34m.\u001b[0m\u001b[0mfrom_dict\u001b[0m\u001b[0;34m(\u001b[0m\u001b[0mle_name_mapping\u001b[0m\u001b[0;34m,\u001b[0m \u001b[0morient\u001b[0m\u001b[0;34m=\u001b[0m\u001b[0;34m'index'\u001b[0m\u001b[0;34m,\u001b[0m\u001b[0mcolumns\u001b[0m\u001b[0;34m=\u001b[0m\u001b[0;34m[\u001b[0m\u001b[0;34m'ID'\u001b[0m\u001b[0;34m]\u001b[0m\u001b[0;34m)\u001b[0m\u001b[0;34m)\u001b[0m\u001b[0;34m\u001b[0m\u001b[0;34m\u001b[0m\u001b[0m\n",
      "\u001b[0;32m/opt/conda/lib/python3.7/site-packages/sklearn/preprocessing/_label.py\u001b[0m in \u001b[0;36minverse_transform\u001b[0;34m(self, y)\u001b[0m\n\u001b[1;32m    295\u001b[0m         \u001b[0;32mif\u001b[0m \u001b[0mlen\u001b[0m\u001b[0;34m(\u001b[0m\u001b[0mdiff\u001b[0m\u001b[0;34m)\u001b[0m\u001b[0;34m:\u001b[0m\u001b[0;34m\u001b[0m\u001b[0;34m\u001b[0m\u001b[0m\n\u001b[1;32m    296\u001b[0m             raise ValueError(\n\u001b[0;32m--> 297\u001b[0;31m                     \"y contains previously unseen labels: %s\" % str(diff))\n\u001b[0m\u001b[1;32m    298\u001b[0m         \u001b[0my\u001b[0m \u001b[0;34m=\u001b[0m \u001b[0mnp\u001b[0m\u001b[0;34m.\u001b[0m\u001b[0masarray\u001b[0m\u001b[0;34m(\u001b[0m\u001b[0my\u001b[0m\u001b[0;34m)\u001b[0m\u001b[0;34m\u001b[0m\u001b[0;34m\u001b[0m\u001b[0m\n\u001b[1;32m    299\u001b[0m         \u001b[0;32mreturn\u001b[0m \u001b[0mself\u001b[0m\u001b[0;34m.\u001b[0m\u001b[0mclasses_\u001b[0m\u001b[0;34m[\u001b[0m\u001b[0my\u001b[0m\u001b[0;34m]\u001b[0m\u001b[0;34m\u001b[0m\u001b[0;34m\u001b[0m\u001b[0m\n",
      "\u001b[0;31mValueError\u001b[0m: y contains previously unseen labels: [\"'t Hofbrouwerijke\" '(512) Brewing Company' '10 Barrel Brewing Co.' ...\n 'Ølfabrikken' 'Ørbæk Bryggeri' 'Łódzkie Browary S.A.']"
     ]
    }
   ],
   "source": [
    "le_name_mapping = dict(zip(name_encoder.classes_, name_encoder.inverse_transform(name_encoder.classes_)))\n",
    "print(pd.DataFrame.from_dict(le_name_mapping, orient='index',columns=['ID']))"
   ]
  },
  {
   "cell_type": "code",
   "execution_count": null,
   "metadata": {},
   "outputs": [],
   "source": []
  }
 ],
 "metadata": {
  "kernelspec": {
   "display_name": "Python 3",
   "language": "python",
   "name": "python3"
  },
  "language_info": {
   "codemirror_mode": {
    "name": "ipython",
    "version": 3
   },
   "file_extension": ".py",
   "mimetype": "text/x-python",
   "name": "python",
   "nbconvert_exporter": "python",
   "pygments_lexer": "ipython3",
   "version": "3.7.6"
  }
 },
 "nbformat": 4,
 "nbformat_minor": 4
}
